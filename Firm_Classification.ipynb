{
 "cells": [
  {
   "cell_type": "code",
   "execution_count": null,
   "metadata": {
    "collapsed": true
   },
   "outputs": [],
   "source": []
  },
  {
   "cell_type": "markdown",
   "metadata": {
    "collapsed": true
   },
   "source": [
    "# Fraudulent Firm Classification: A Case Study of an External Audit"
   ]
  },
  {
   "cell_type": "markdown",
   "metadata": {},
   "source": [
    "### Project 1\n",
    "#### Project description:\n",
    "Please read the Data Set Information section to learn about this dataset.\n",
    "Data description is also provided for thi dataset.\n",
    "Read data into Jupyter notebook, use pandas to import data into a data frame\n",
    "Preprocess data: Explore data, check for missing data and apply data scaling. Justify the type of scaling used.\n",
    "#### Regression Task:\n",
    "Apply all the regression models you've learned so far. If your model has a scaling parameter(s) use Grid Search to find the best scaling parameter. Use plots and graphs to help you get a better glimpse of the results.\n",
    "Then use cross validation to find average training and testing score.\n",
    "Your submission should have at least the following regression models: KNN repressor, linear regression, Ridge, Lasso, polynomial regression, SVM both simple and with kernels.\n",
    "Finally find the best regressor for this dataset and train your model on the entire dataset using the best parameters and predict buzz for the test_set.\n",
    "#### Classification task:\n",
    "Decide aboute a good evaluation strategy and justify your choice.\n",
    "Find best parameters for following classification models: KNN classifcation, Logistic Regression, Linear Supprt Vector Machine, Kerenilzed Support Vector Machine, Decision Tree.\n",
    "Which model gives the best results?"
   ]
  },
  {
   "cell_type": "markdown",
   "metadata": {},
   "source": [
    "#### Data Set Information:\n",
    "This dataset is taken from a research explained here.\n",
    "\n",
    "The goal of the research is to help the auditors by building a classification model that can predict the fraudulent firm on the basis the present and historical risk factors. The information about the sectors and the counts of firms are listed respectively as Irrigation (114), Public Health (77), Buildings and Roads (82), Forest (70), Corporate (47), Animal Husbandry (95), Communication (1), Electrical (4), Land (5), Science and Technology (3), Tourism (1), Fisheries (41), Industries (37), Agriculture (200).\n",
    "\n",
    "There are two csv files to present data. Please merge these two datasets into one dataframe."
   ]
  },
  {
   "cell_type": "markdown",
   "metadata": {},
   "source": [
    "_** The main objective of this project is to perform the audit risk analysis using 776 target firm's historical data. Our main foucs is on determining the Rish Audit Score and preddiction of Risk Class. We used several supervised techniques (Regression, Classification) to determine the Risk Audit Score and Predict the Risk Class which will be discussed below.** _\n",
    "\n",
    "_** We followed a sequence of steps starting with with importing required libraries, data merging, data pre-processing, data vizualization, etc. So let's get started **_"
   ]
  },
  {
   "cell_type": "markdown",
   "metadata": {},
   "source": [
    "### Importing Libraries"
   ]
  },
  {
   "cell_type": "code",
   "execution_count": 1,
   "metadata": {
    "collapsed": true
   },
   "outputs": [],
   "source": [
    "import pandas as pd\n",
    "import numpy as np\n",
    "import matplotlib.pyplot as plt\n",
    "%matplotlib inline\n",
    "import seaborn as sns"
   ]
  },
  {
   "cell_type": "markdown",
   "metadata": {},
   "source": [
    "### Importing Datasets"
   ]
  },
  {
   "cell_type": "code",
   "execution_count": 2,
   "metadata": {
    "collapsed": true
   },
   "outputs": [],
   "source": [
    "audit = pd.read_csv('audit_risk.csv')\n",
    "trial = pd.read_csv('trial.csv')"
   ]
  },
  {
   "cell_type": "markdown",
   "metadata": {},
   "source": [
    "### Data Distribution"
   ]
  },
  {
   "cell_type": "code",
   "execution_count": 3,
   "metadata": {},
   "outputs": [
    {
     "data": {
      "text/html": [
       "<div>\n",
       "<style>\n",
       "    .dataframe thead tr:only-child th {\n",
       "        text-align: right;\n",
       "    }\n",
       "\n",
       "    .dataframe thead th {\n",
       "        text-align: left;\n",
       "    }\n",
       "\n",
       "    .dataframe tbody tr th {\n",
       "        vertical-align: top;\n",
       "    }\n",
       "</style>\n",
       "<table border=\"1\" class=\"dataframe\">\n",
       "  <thead>\n",
       "    <tr style=\"text-align: right;\">\n",
       "      <th></th>\n",
       "      <th>Sector_score</th>\n",
       "      <th>LOCATION_ID</th>\n",
       "      <th>PARA_A</th>\n",
       "      <th>Score_A</th>\n",
       "      <th>Risk_A</th>\n",
       "      <th>PARA_B</th>\n",
       "      <th>Score_B</th>\n",
       "      <th>Risk_B</th>\n",
       "      <th>TOTAL</th>\n",
       "      <th>numbers</th>\n",
       "      <th>...</th>\n",
       "      <th>PROB</th>\n",
       "      <th>RiSk_E</th>\n",
       "      <th>History</th>\n",
       "      <th>Prob</th>\n",
       "      <th>Risk_F</th>\n",
       "      <th>Score</th>\n",
       "      <th>Inherent_Risk</th>\n",
       "      <th>CONTROL_RISK</th>\n",
       "      <th>Detection_Risk</th>\n",
       "      <th>Audit_Risk</th>\n",
       "    </tr>\n",
       "    <tr>\n",
       "      <th>Risk</th>\n",
       "      <th></th>\n",
       "      <th></th>\n",
       "      <th></th>\n",
       "      <th></th>\n",
       "      <th></th>\n",
       "      <th></th>\n",
       "      <th></th>\n",
       "      <th></th>\n",
       "      <th></th>\n",
       "      <th></th>\n",
       "      <th></th>\n",
       "      <th></th>\n",
       "      <th></th>\n",
       "      <th></th>\n",
       "      <th></th>\n",
       "      <th></th>\n",
       "      <th></th>\n",
       "      <th></th>\n",
       "      <th></th>\n",
       "      <th></th>\n",
       "      <th></th>\n",
       "    </tr>\n",
       "  </thead>\n",
       "  <tbody>\n",
       "    <tr>\n",
       "      <th>0</th>\n",
       "      <td>471</td>\n",
       "      <td>471</td>\n",
       "      <td>471</td>\n",
       "      <td>471</td>\n",
       "      <td>471</td>\n",
       "      <td>471</td>\n",
       "      <td>471</td>\n",
       "      <td>471</td>\n",
       "      <td>471</td>\n",
       "      <td>471</td>\n",
       "      <td>...</td>\n",
       "      <td>471</td>\n",
       "      <td>471</td>\n",
       "      <td>471</td>\n",
       "      <td>471</td>\n",
       "      <td>471</td>\n",
       "      <td>471</td>\n",
       "      <td>471</td>\n",
       "      <td>471</td>\n",
       "      <td>471</td>\n",
       "      <td>471</td>\n",
       "    </tr>\n",
       "    <tr>\n",
       "      <th>1</th>\n",
       "      <td>305</td>\n",
       "      <td>305</td>\n",
       "      <td>305</td>\n",
       "      <td>305</td>\n",
       "      <td>305</td>\n",
       "      <td>305</td>\n",
       "      <td>305</td>\n",
       "      <td>305</td>\n",
       "      <td>305</td>\n",
       "      <td>305</td>\n",
       "      <td>...</td>\n",
       "      <td>305</td>\n",
       "      <td>305</td>\n",
       "      <td>305</td>\n",
       "      <td>305</td>\n",
       "      <td>305</td>\n",
       "      <td>305</td>\n",
       "      <td>305</td>\n",
       "      <td>305</td>\n",
       "      <td>305</td>\n",
       "      <td>305</td>\n",
       "    </tr>\n",
       "  </tbody>\n",
       "</table>\n",
       "<p>2 rows × 26 columns</p>\n",
       "</div>"
      ],
      "text/plain": [
       "      Sector_score  LOCATION_ID  PARA_A  Score_A  Risk_A  PARA_B  Score_B  \\\n",
       "Risk                                                                        \n",
       "0              471          471     471      471     471     471      471   \n",
       "1              305          305     305      305     305     305      305   \n",
       "\n",
       "      Risk_B  TOTAL  numbers     ...      PROB  RiSk_E  History  Prob  Risk_F  \\\n",
       "Risk                             ...                                            \n",
       "0        471    471      471     ...       471     471      471   471     471   \n",
       "1        305    305      305     ...       305     305      305   305     305   \n",
       "\n",
       "      Score  Inherent_Risk  CONTROL_RISK  Detection_Risk  Audit_Risk  \n",
       "Risk                                                                  \n",
       "0       471            471           471             471         471  \n",
       "1       305            305           305             305         305  \n",
       "\n",
       "[2 rows x 26 columns]"
      ]
     },
     "execution_count": 3,
     "metadata": {},
     "output_type": "execute_result"
    },
    {
     "data": {
      "image/png": "[encoded data removed]",
      "text/plain": [
       "<matplotlib.figure.Figure at 0x1d8ba5dda20>"
      ]
     },
     "metadata": {},
     "output_type": "display_data"
    }
   ],
   "source": [
    "sns.countplot(audit['Risk'])\n",
    "audit.groupby('Risk').count()"
   ]
  },
  {
   "cell_type": "markdown",
   "metadata": {},
   "source": [
    "#### Audit_Risk Vs Risk"
   ]
  },
  {
   "cell_type": "code",
   "execution_count": 4,
   "metadata": {},
   "outputs": [
    {
     "data": {
      "text/plain": [
       "<matplotlib.collections.PathCollection at 0x1d8bac0f668>"
      ]
     },
     "execution_count": 4,
     "metadata": {},
     "output_type": "execute_result"
    },
    {
     "data": {
      "image/png": "[encoded data removed]",
      "text/plain": [
       "<matplotlib.figure.Figure at 0x1d8ba70a9e8>"
      ]
     },
     "metadata": {},
     "output_type": "display_data"
    }
   ],
   "source": [
    "plt.scatter(audit['Audit_Risk'],audit['Risk'])\n",
    "\n",
    "## We can see an outlier that screws can screw out analysis. We will handle this outlier in data pre-processing."
   ]
  },
  {
   "cell_type": "code",
   "execution_count": 5,
   "metadata": {},
   "outputs": [
    {
     "data": {
      "text/plain": [
       "<matplotlib.axes._subplots.AxesSubplot at 0x1d8bac2ce10>"
      ]
     },
     "execution_count": 5,
     "metadata": {},
     "output_type": "execute_result"
    },
    {
     "data": {
      "image/png": "[encoded data removed]",
      "text/plain": [
       "<matplotlib.figure.Figure at 0x1d8ba717390>"
      ]
     },
     "metadata": {},
     "output_type": "display_data"
    }
   ],
   "source": [
    "sns.boxplot(audit['numbers'],audit['TOTAL'])"
   ]
  },
  {
   "cell_type": "code",
   "execution_count": 6,
   "metadata": {},
   "outputs": [
    {
     "data": {
      "text/plain": [
       "<matplotlib.axes._subplots.AxesSubplot at 0x1d8bac800b8>"
      ]
     },
     "execution_count": 6,
     "metadata": {},
     "output_type": "execute_result"
    },
    {
     "data": {
      "image/png": "[encoded data removed]",
      "text/plain": [
       "<matplotlib.figure.Figure at 0x1d8bac74588>"
      ]
     },
     "metadata": {},
     "output_type": "display_data"
    }
   ],
   "source": [
    "plt.figure(figsize=(30,20))\n",
    "sns.barplot(x='LOCATION_ID',y='Audit_Risk',data= audit,estimator=np.mean)"
   ]
  },
  {
   "cell_type": "code",
   "execution_count": 7,
   "metadata": {},
   "outputs": [
    {
     "data": {
      "text/plain": [
       "<matplotlib.axes._subplots.AxesSubplot at 0x1d8bae07c50>"
      ]
     },
     "execution_count": 7,
     "metadata": {},
     "output_type": "execute_result"
    },
    {
     "data": {
      "image/png": "[encoded data removed]",
      "text/plain": [
       "<matplotlib.figure.Figure at 0x1d8badf8978>"
      ]
     },
     "metadata": {},
     "output_type": "display_data"
    }
   ],
   "source": [
    "#loooking for outliers in the audit's risk colum\n",
    "sns.stripplot(x='Risk',y='Audit_Risk',data=audit)"
   ]
  },
  {
   "cell_type": "markdown",
   "metadata": {},
   "source": [
    "### Data Pre-processing"
   ]
  },
  {
   "cell_type": "markdown",
   "metadata": {},
   "source": [
    "1. Imputing Missing values\n",
    "2. Merging Data\n",
    "3. Checking for outliers"
   ]
  },
  {
   "cell_type": "markdown",
   "metadata": {},
   "source": [
    "#### 1. Imputing Missing Values"
   ]
  },
  {
   "cell_type": "code",
   "execution_count": 8,
   "metadata": {},
   "outputs": [
    {
     "data": {
      "text/plain": [
       "array([  3.38000000e+00,   9.40000000e-01,   0.00000000e+00,\n",
       "         1.17500000e+01,   2.95000000e+00,   4.49500000e+01,\n",
       "         7.79000000e+00,   7.34000000e+00,   1.93000000e+00,\n",
       "         4.42000000e+00,   9.60000000e-01,   1.04300000e+01,\n",
       "         7.00000000e-03,   9.00000000e+00,   4.12800000e+01,\n",
       "         1.40300000e+01,   6.31800000e+01,   3.42400000e+01,\n",
       "         1.00000000e-02,   2.05190000e+02,   1.00000000e-01,\n",
       "         1.11600000e+01,   1.25000000e+00,   1.46000000e+00,\n",
       "         6.78000000e+00,   1.16000000e+00,   1.52410000e+02,\n",
       "         1.08000000e+00,   2.84000000e+00,   9.00000000e-01,\n",
       "         9.67000000e+00,   3.26800000e+01,   9.35030000e+02,\n",
       "         2.96300000e+01,   1.10000000e-01,   2.62000000e+00,\n",
       "         6.00000000e-02,   2.43000000e+00,   1.26130000e+02,\n",
       "         2.07900000e+01,   1.56920000e+02,   1.22900000e+01,\n",
       "         2.29000000e+00,   7.78000000e+00,   2.51000000e+00,\n",
       "         8.31000000e+00,   1.60000000e-01,   4.79000000e+01,\n",
       "         8.91000000e+00,   4.95000000e+00,   1.75000000e+00,\n",
       "         6.80000000e-01,   1.58200000e+01,   5.80000000e-01,\n",
       "         2.15310000e+02,   5.00000000e-02,   5.33400000e+01,\n",
       "         1.06900000e+01,   5.69000000e+00,   1.35000000e+00,\n",
       "         1.16900000e+01,   1.46000000e+01,   2.07800000e+01,\n",
       "         1.02220000e+02,   7.40000000e-01,   8.73370000e+02,\n",
       "         1.40000000e+00,   4.20000000e-01,   3.65200000e+01,\n",
       "         6.02000000e+00,   1.71600000e+01,   1.29100000e+01,\n",
       "         1.07900000e+01,   3.46000000e+00,   2.33000000e+00,\n",
       "         5.58000000e+00,   7.60000000e-01,   2.52700000e+01,\n",
       "         2.00000000e-01,   7.56000000e+00,   6.70300000e+01,\n",
       "         1.94000000e+01,   3.48300000e+01,   9.87500000e+01,\n",
       "         3.60000000e-01,   3.52100000e+01,   8.20000000e+00,\n",
       "         2.03300000e+01,   3.51300000e+01,   6.37000000e+01,\n",
       "         2.80000000e-01,   2.71300000e+01,   1.02700000e+01,\n",
       "         1.30500000e+01,   1.87900000e+01,   1.68200000e+01,\n",
       "         1.00300000e+01,   1.26700000e+01,   1.37900000e+01,\n",
       "         1.01600000e+01,   9.73000000e+00,   2.69500000e+01,\n",
       "         2.90700000e+01,   9.76000000e+00,   1.33100000e+01,\n",
       "         7.70000000e+00,   1.04000000e+01,   2.06200000e+01,\n",
       "         4.40200000e+01,   4.35300000e+01,   1.20300000e+01,\n",
       "         1.18800000e+01,   6.96000000e+00,   2.10700000e+01,\n",
       "         5.71600000e+01,   1.06500000e+01,   5.36000000e+00,\n",
       "         2.45000000e+00,   3.16100000e+01,   3.43200000e+01,\n",
       "         4.24000000e+00,   8.38000000e+00,   2.21000000e+01,\n",
       "         5.40700000e+01,   2.76800000e+01,   2.14500000e+01,\n",
       "         1.10900000e+01,   1.01400000e+01,   5.21300000e+01,\n",
       "         1.70200000e+01,   1.80000000e+01,   6.97600000e+01,\n",
       "         1.38800000e+01,   4.03000000e+00,   2.44000000e+00,\n",
       "         7.89800000e+01,   6.88000000e+00,   5.49000000e+00,\n",
       "         3.77900000e+01,   6.08800000e+01,   1.83200000e+02,\n",
       "         1.00200000e+01,   3.20000000e-01,   1.80000000e-01,\n",
       "         4.85600000e+01,   1.84500000e+01,   8.44000000e+00,\n",
       "         3.96500000e+01,   9.53000000e+00,   4.46700000e+01,\n",
       "         3.42000000e+00,   2.66400000e+01,   1.69100000e+01,\n",
       "         1.29000000e+01,   6.79000000e+00,   8.76000000e+00,\n",
       "         2.10000000e-01,   1.96800000e+01,   1.42700000e+01,\n",
       "         1.61900000e+01,   5.03000000e+00,   1.41000000e+01,\n",
       "         1.02390000e+02,   4.26000000e+00,   2.72300000e+01,\n",
       "         5.91800000e+01,   1.33500000e+01,   8.96400000e+01,\n",
       "         8.08000000e+01,   8.95000000e+00,   1.24590000e+02,\n",
       "         5.80000000e+00,   2.16000000e+01,   1.45970000e+02,\n",
       "         7.64700000e+01,   4.76000000e+01,   2.84000000e+01,\n",
       "         2.59700000e+01,   8.58100000e+01,   4.53700000e+01,\n",
       "         1.43000000e+00,   1.59000000e+00,   8.29900000e+01,\n",
       "         8.67000000e+01,   1.51400000e+01,   3.13800000e+01,\n",
       "         7.17000000e+00,   1.82400000e+01,   5.88600000e+01,\n",
       "         6.06000000e+00,   2.28000000e+01,   5.37000000e+00,\n",
       "         7.74700000e+01,   1.52000000e+01,   6.80140000e+02,\n",
       "         7.10000000e-01,   1.44000000e+00,   2.00000000e-02,\n",
       "         4.60000000e+00,   3.08500000e+01,   8.21000000e+00,\n",
       "         4.93100000e+01,   3.69000000e+00,   1.12500000e+01,\n",
       "         3.08000000e+00,   1.60300000e+01,   3.43000000e+00,\n",
       "         8.90000000e-01,   1.28000000e+00,   5.42000000e+00,\n",
       "         5.41000000e+00,   7.27000000e+00,   8.60000000e+00,\n",
       "         3.66000000e+00,   3.25000000e+00,   2.62800000e+01,\n",
       "         2.20000000e-01,   1.82000000e+00,   8.20000000e-01,\n",
       "         2.79900000e+01,   2.47000000e+00,   7.54000000e+00,\n",
       "         2.71000000e+01,   4.00000000e-02,   6.70000000e-01,\n",
       "         7.20000000e-01,   8.40000000e-01,   7.00000000e-02,\n",
       "         1.20000000e-01,   6.73000000e+00,   5.70000000e-01,\n",
       "         6.14000000e+00,   1.15000000e+00,   3.62900000e+01,\n",
       "         3.10000000e-01,   1.22000000e+00,   2.30000000e-01,\n",
       "         8.44370000e+02,   1.95000000e+00,   9.00000000e-02,\n",
       "         7.48000000e+00,   9.45000000e+00,   2.77000000e+00,\n",
       "         2.72800000e+01,   7.30000000e-01,   4.70000000e-01,\n",
       "         1.75900000e+02,   1.35400000e+01,   4.18200000e+01,\n",
       "         2.97600000e+01,   3.00000000e-02,   8.51300000e+01,\n",
       "         1.09800000e+01,   1.73020000e+02,   5.20000000e-01,\n",
       "         1.24000000e+00,   1.19000000e+00,   1.30000000e-01,\n",
       "         1.05300000e+01,   5.10000000e-01,   1.50000000e-01,\n",
       "         4.90000000e-01,   7.90000000e-01,   1.94500000e+01,\n",
       "         4.40000000e-01,   3.50000000e-01,   3.53000000e+00,\n",
       "         8.00000000e-02,   4.30000000e-01,   6.40000000e-01,\n",
       "         3.70000000e-01,   9.70000000e-01,   1.90000000e-01,\n",
       "         1.40000000e-01,   3.54000000e+00,   3.92000000e+00,\n",
       "         3.30000000e-01,   8.84000000e+01,   2.08900000e+01,\n",
       "         9.47500000e+01,   8.39600000e+01,   3.97310000e+02,\n",
       "         1.60410000e+02,   2.39700000e+01,   7.05600000e+01,\n",
       "         1.13300000e+01,   1.32000000e+00,   2.40000000e-01,\n",
       "         6.50000000e-01,   8.00000000e-01,   3.90000000e-01,\n",
       "         1.33000000e+01,   2.90000000e-01,   3.30000000e+00,\n",
       "         1.60900000e+01,   1.66000000e+00,   7.00000000e-01,\n",
       "         6.30000000e-01,   9.30000000e-01,   1.20000000e+00,\n",
       "         1.03000000e+00,   2.86000000e+00,   1.55000000e+00,\n",
       "         2.39000000e+00,   1.30000000e+00,   6.00000000e-01,\n",
       "         1.70000000e-01,   4.00000000e-01,   3.68000000e+00,\n",
       "         8.50500000e+01,   8.47000000e+00,   2.53120000e+02,\n",
       "         4.50000000e-01,   6.41000000e+00,   5.90000000e-01,\n",
       "         2.50000000e-01,   6.50000000e+00,   6.31000000e+00,\n",
       "         1.65000000e+00,   5.61000000e+00,   6.90000000e-01,\n",
       "         9.90000000e-01,   9.43000000e+00,              nan,\n",
       "         8.83400000e+01,   3.57000000e+00,   1.80000000e+00,\n",
       "         1.91000000e+00,   2.40000000e+00])"
      ]
     },
     "execution_count": 8,
     "metadata": {},
     "output_type": "execute_result"
    }
   ],
   "source": [
    "audit['Money_Value'].unique()"
   ]
  },
  {
   "cell_type": "code",
   "execution_count": 9,
   "metadata": {},
   "outputs": [
    {
     "data": {
      "text/plain": [
       "array([  3.38000000e+00,   9.40000000e-01,   0.00000000e+00,\n",
       "         1.17500000e+01,   2.95000000e+00,   4.49500000e+01,\n",
       "         7.79000000e+00,   7.34000000e+00,   1.93000000e+00,\n",
       "         4.42000000e+00,   9.60000000e-01,   1.04300000e+01,\n",
       "         7.00000000e-03,   9.00000000e+00,   4.12800000e+01,\n",
       "         1.40300000e+01,   6.31800000e+01,   3.42400000e+01,\n",
       "         1.00000000e-02,   2.05190000e+02,   1.00000000e-01,\n",
       "         1.11600000e+01,   1.25000000e+00,   1.46000000e+00,\n",
       "         6.78000000e+00,   1.16000000e+00,   1.52410000e+02,\n",
       "         1.08000000e+00,   2.84000000e+00,   9.00000000e-01,\n",
       "         9.67000000e+00,   3.26800000e+01,   9.35030000e+02,\n",
       "         2.96300000e+01,   1.10000000e-01,   2.62000000e+00,\n",
       "         6.00000000e-02,   2.43000000e+00,   1.26130000e+02,\n",
       "         2.07900000e+01,   1.56920000e+02,   1.22900000e+01,\n",
       "         2.29000000e+00,   7.78000000e+00,   2.51000000e+00,\n",
       "         8.31000000e+00,   1.60000000e-01,   4.79000000e+01,\n",
       "         8.91000000e+00,   4.95000000e+00,   1.75000000e+00,\n",
       "         6.80000000e-01,   1.58200000e+01,   5.80000000e-01,\n",
       "         2.15310000e+02,   5.00000000e-02,   5.33400000e+01,\n",
       "         1.06900000e+01,   5.69000000e+00,   1.35000000e+00,\n",
       "         1.16900000e+01,   1.46000000e+01,   2.07800000e+01,\n",
       "         1.02220000e+02,   7.40000000e-01,   8.73370000e+02,\n",
       "         1.40000000e+00,   4.20000000e-01,   3.65200000e+01,\n",
       "         6.02000000e+00,   1.71600000e+01,   1.29100000e+01,\n",
       "         1.07900000e+01,   3.46000000e+00,   2.33000000e+00,\n",
       "         5.58000000e+00,   7.60000000e-01,   2.52700000e+01,\n",
       "         2.00000000e-01,   7.56000000e+00,   6.70300000e+01,\n",
       "         1.94000000e+01,   3.48300000e+01,   9.87500000e+01,\n",
       "         3.60000000e-01,   3.52100000e+01,   8.20000000e+00,\n",
       "         2.03300000e+01,   3.51300000e+01,   6.37000000e+01,\n",
       "         2.80000000e-01,   2.71300000e+01,   1.02700000e+01,\n",
       "         1.30500000e+01,   1.87900000e+01,   1.68200000e+01,\n",
       "         1.00300000e+01,   1.26700000e+01,   1.37900000e+01,\n",
       "         1.01600000e+01,   9.73000000e+00,   2.69500000e+01,\n",
       "         2.90700000e+01,   9.76000000e+00,   1.33100000e+01,\n",
       "         7.70000000e+00,   1.04000000e+01,   2.06200000e+01,\n",
       "         4.40200000e+01,   4.35300000e+01,   1.20300000e+01,\n",
       "         1.18800000e+01,   6.96000000e+00,   2.10700000e+01,\n",
       "         5.71600000e+01,   1.06500000e+01,   5.36000000e+00,\n",
       "         2.45000000e+00,   3.16100000e+01,   3.43200000e+01,\n",
       "         4.24000000e+00,   8.38000000e+00,   2.21000000e+01,\n",
       "         5.40700000e+01,   2.76800000e+01,   2.14500000e+01,\n",
       "         1.10900000e+01,   1.01400000e+01,   5.21300000e+01,\n",
       "         1.70200000e+01,   1.80000000e+01,   6.97600000e+01,\n",
       "         1.38800000e+01,   4.03000000e+00,   2.44000000e+00,\n",
       "         7.89800000e+01,   6.88000000e+00,   5.49000000e+00,\n",
       "         3.77900000e+01,   6.08800000e+01,   1.83200000e+02,\n",
       "         1.00200000e+01,   3.20000000e-01,   1.80000000e-01,\n",
       "         4.85600000e+01,   1.84500000e+01,   8.44000000e+00,\n",
       "         3.96500000e+01,   9.53000000e+00,   4.46700000e+01,\n",
       "         3.42000000e+00,   2.66400000e+01,   1.69100000e+01,\n",
       "         1.29000000e+01,   6.79000000e+00,   8.76000000e+00,\n",
       "         2.10000000e-01,   1.96800000e+01,   1.42700000e+01,\n",
       "         1.61900000e+01,   5.03000000e+00,   1.41000000e+01,\n",
       "         1.02390000e+02,   4.26000000e+00,   2.72300000e+01,\n",
       "         5.91800000e+01,   1.33500000e+01,   8.96400000e+01,\n",
       "         8.08000000e+01,   8.95000000e+00,   1.24590000e+02,\n",
       "         5.80000000e+00,   2.16000000e+01,   1.45970000e+02,\n",
       "         7.64700000e+01,   4.76000000e+01,   2.84000000e+01,\n",
       "         2.59700000e+01,   8.58100000e+01,   4.53700000e+01,\n",
       "         1.43000000e+00,   1.59000000e+00,   8.29900000e+01,\n",
       "         8.67000000e+01,   1.51400000e+01,   3.13800000e+01,\n",
       "         7.17000000e+00,   1.82400000e+01,   5.88600000e+01,\n",
       "         6.06000000e+00,   2.28000000e+01,   5.37000000e+00,\n",
       "         7.74700000e+01,   1.52000000e+01,   6.80140000e+02,\n",
       "         7.10000000e-01,   1.44000000e+00,   2.00000000e-02,\n",
       "         4.60000000e+00,   3.08500000e+01,   8.21000000e+00,\n",
       "         4.93100000e+01,   3.69000000e+00,   1.12500000e+01,\n",
       "         3.08000000e+00,   1.60300000e+01,   3.43000000e+00,\n",
       "         8.90000000e-01,   1.28000000e+00,   5.42000000e+00,\n",
       "         5.41000000e+00,   7.27000000e+00,   8.60000000e+00,\n",
       "         3.66000000e+00,   3.25000000e+00,   2.62800000e+01,\n",
       "         2.20000000e-01,   1.82000000e+00,   8.20000000e-01,\n",
       "         2.79900000e+01,   2.47000000e+00,   7.54000000e+00,\n",
       "         2.71000000e+01,   4.00000000e-02,   6.70000000e-01,\n",
       "         7.20000000e-01,   8.40000000e-01,   7.00000000e-02,\n",
       "         1.20000000e-01,   6.73000000e+00,   5.70000000e-01,\n",
       "         6.14000000e+00,   1.15000000e+00,   3.62900000e+01,\n",
       "         3.10000000e-01,   1.22000000e+00,   2.30000000e-01,\n",
       "         8.44370000e+02,   1.95000000e+00,   9.00000000e-02,\n",
       "         7.48000000e+00,   9.45000000e+00,   2.77000000e+00,\n",
       "         2.72800000e+01,   7.30000000e-01,   4.70000000e-01,\n",
       "         1.75900000e+02,   1.35400000e+01,   4.18200000e+01,\n",
       "         2.97600000e+01,   3.00000000e-02,   8.51300000e+01,\n",
       "         1.09800000e+01,   1.73020000e+02,   5.20000000e-01,\n",
       "         1.24000000e+00,   1.19000000e+00,   1.30000000e-01,\n",
       "         1.05300000e+01,   5.10000000e-01,   1.50000000e-01,\n",
       "         4.90000000e-01,   7.90000000e-01,   1.94500000e+01,\n",
       "         4.40000000e-01,   3.50000000e-01,   3.53000000e+00,\n",
       "         8.00000000e-02,   4.30000000e-01,   6.40000000e-01,\n",
       "         3.70000000e-01,   9.70000000e-01,   1.90000000e-01,\n",
       "         1.40000000e-01,   3.54000000e+00,   3.92000000e+00,\n",
       "         3.30000000e-01,   8.84000000e+01,   2.08900000e+01,\n",
       "         9.47500000e+01,   8.39600000e+01,   3.97310000e+02,\n",
       "         1.60410000e+02,   2.39700000e+01,   7.05600000e+01,\n",
       "         1.13300000e+01,   1.32000000e+00,   2.40000000e-01,\n",
       "         6.50000000e-01,   8.00000000e-01,   3.90000000e-01,\n",
       "         1.33000000e+01,   2.90000000e-01,   3.30000000e+00,\n",
       "         1.60900000e+01,   1.66000000e+00,   7.00000000e-01,\n",
       "         6.30000000e-01,   9.30000000e-01,   1.20000000e+00,\n",
       "         1.03000000e+00,   2.86000000e+00,   1.55000000e+00,\n",
       "         2.39000000e+00,   1.30000000e+00,   6.00000000e-01,\n",
       "         1.70000000e-01,   4.00000000e-01,   3.68000000e+00,\n",
       "         8.50500000e+01,   8.47000000e+00,   2.53120000e+02,\n",
       "         4.50000000e-01,   6.41000000e+00,   5.90000000e-01,\n",
       "         2.50000000e-01,   6.50000000e+00,   6.31000000e+00,\n",
       "         1.65000000e+00,   5.61000000e+00,   6.90000000e-01,\n",
       "         9.90000000e-01,   9.43000000e+00,              nan,\n",
       "         8.83400000e+01,   3.57000000e+00,   1.80000000e+00,\n",
       "         1.91000000e+00,   2.40000000e+00])"
      ]
     },
     "execution_count": 9,
     "metadata": {},
     "output_type": "execute_result"
    }
   ],
   "source": [
    "trial['Money_Value'].unique()"
   ]
  },
  {
   "cell_type": "markdown",
   "metadata": {},
   "source": [
    "Both audit & trail have one missing value. Since dataset is small its better to impute the missing value rather than removing missing values. So let's impute the missing Money_Value with it's mean grouped by 'numbers' column"
   ]
  },
  {
   "cell_type": "code",
   "execution_count": 10,
   "metadata": {},
   "outputs": [
    {
     "data": {
      "text/html": [
       "<div>\n",
       "<style>\n",
       "    .dataframe thead tr:only-child th {\n",
       "        text-align: right;\n",
       "    }\n",
       "\n",
       "    .dataframe thead th {\n",
       "        text-align: left;\n",
       "    }\n",
       "\n",
       "    .dataframe tbody tr th {\n",
       "        vertical-align: top;\n",
       "    }\n",
       "</style>\n",
       "<table border=\"1\" class=\"dataframe\">\n",
       "  <thead>\n",
       "    <tr style=\"text-align: right;\">\n",
       "      <th></th>\n",
       "      <th>Sector_score</th>\n",
       "      <th>LOCATION_ID</th>\n",
       "      <th>PARA_A</th>\n",
       "      <th>Score_A</th>\n",
       "      <th>Risk_A</th>\n",
       "      <th>PARA_B</th>\n",
       "      <th>Score_B</th>\n",
       "      <th>Risk_B</th>\n",
       "      <th>TOTAL</th>\n",
       "      <th>numbers</th>\n",
       "      <th>...</th>\n",
       "      <th>RiSk_E</th>\n",
       "      <th>History</th>\n",
       "      <th>Prob</th>\n",
       "      <th>Risk_F</th>\n",
       "      <th>Score</th>\n",
       "      <th>Inherent_Risk</th>\n",
       "      <th>CONTROL_RISK</th>\n",
       "      <th>Detection_Risk</th>\n",
       "      <th>Audit_Risk</th>\n",
       "      <th>Risk</th>\n",
       "    </tr>\n",
       "  </thead>\n",
       "  <tbody>\n",
       "    <tr>\n",
       "      <th>642</th>\n",
       "      <td>55.57</td>\n",
       "      <td>4</td>\n",
       "      <td>0.23</td>\n",
       "      <td>0.2</td>\n",
       "      <td>0.046</td>\n",
       "      <td>0.0</td>\n",
       "      <td>0.2</td>\n",
       "      <td>0.0</td>\n",
       "      <td>0.23</td>\n",
       "      <td>5.0</td>\n",
       "      <td>...</td>\n",
       "      <td>0.4</td>\n",
       "      <td>0</td>\n",
       "      <td>0.2</td>\n",
       "      <td>0.0</td>\n",
       "      <td>2.0</td>\n",
       "      <td>1.446</td>\n",
       "      <td>0.4</td>\n",
       "      <td>0.5</td>\n",
       "      <td>0.2892</td>\n",
       "      <td>0</td>\n",
       "    </tr>\n",
       "  </tbody>\n",
       "</table>\n",
       "<p>1 rows × 27 columns</p>\n",
       "</div>"
      ],
      "text/plain": [
       "     Sector_score LOCATION_ID  PARA_A  Score_A  Risk_A  PARA_B  Score_B  \\\n",
       "642         55.57           4    0.23      0.2   0.046     0.0      0.2   \n",
       "\n",
       "     Risk_B  TOTAL  numbers  ...   RiSk_E  History  Prob  Risk_F  Score  \\\n",
       "642     0.0   0.23      5.0  ...      0.4        0   0.2     0.0    2.0   \n",
       "\n",
       "     Inherent_Risk  CONTROL_RISK  Detection_Risk  Audit_Risk  Risk  \n",
       "642          1.446           0.4             0.5      0.2892     0  \n",
       "\n",
       "[1 rows x 27 columns]"
      ]
     },
     "execution_count": 10,
     "metadata": {},
     "output_type": "execute_result"
    }
   ],
   "source": [
    "audit[audit['Money_Value'].isnull()]\n"
   ]
  },
  {
   "cell_type": "code",
   "execution_count": 11,
   "metadata": {},
   "outputs": [
    {
     "data": {
      "text/plain": [
       "55.57    200\n",
       "3.89     114\n",
       "1.85      95\n",
       "2.72      82\n",
       "3.41      76\n",
       "2.37      74\n",
       "1.99      47\n",
       "21.61     41\n",
       "59.85     37\n",
       "2.34       5\n",
       "15.56      3\n",
       "2.36       1\n",
       "17.68      1\n",
       "Name: Sector_score, dtype: int64"
      ]
     },
     "execution_count": 11,
     "metadata": {},
     "output_type": "execute_result"
    }
   ],
   "source": [
    "audit['Sector_score'].value_counts()"
   ]
  },
  {
   "cell_type": "code",
   "execution_count": 12,
   "metadata": {},
   "outputs": [
    {
     "data": {
      "text/html": [
       "<div>\n",
       "<style>\n",
       "    .dataframe thead tr:only-child th {\n",
       "        text-align: right;\n",
       "    }\n",
       "\n",
       "    .dataframe thead th {\n",
       "        text-align: left;\n",
       "    }\n",
       "\n",
       "    .dataframe tbody tr th {\n",
       "        vertical-align: top;\n",
       "    }\n",
       "</style>\n",
       "<table border=\"1\" class=\"dataframe\">\n",
       "  <thead>\n",
       "    <tr style=\"text-align: right;\">\n",
       "      <th></th>\n",
       "      <th>Money_Value</th>\n",
       "    </tr>\n",
       "    <tr>\n",
       "      <th>Sector_score</th>\n",
       "      <th></th>\n",
       "    </tr>\n",
       "  </thead>\n",
       "  <tbody>\n",
       "    <tr>\n",
       "      <th>1.85</th>\n",
       "      <td>2.401579</td>\n",
       "    </tr>\n",
       "    <tr>\n",
       "      <th>1.99</th>\n",
       "      <td>26.892340</td>\n",
       "    </tr>\n",
       "    <tr>\n",
       "      <th>2.34</th>\n",
       "      <td>16.792000</td>\n",
       "    </tr>\n",
       "    <tr>\n",
       "      <th>2.36</th>\n",
       "      <td>88.400000</td>\n",
       "    </tr>\n",
       "    <tr>\n",
       "      <th>2.37</th>\n",
       "      <td>5.569189</td>\n",
       "    </tr>\n",
       "    <tr>\n",
       "      <th>2.72</th>\n",
       "      <td>30.059512</td>\n",
       "    </tr>\n",
       "    <tr>\n",
       "      <th>3.41</th>\n",
       "      <td>18.294737</td>\n",
       "    </tr>\n",
       "    <tr>\n",
       "      <th>3.89</th>\n",
       "      <td>33.157842</td>\n",
       "    </tr>\n",
       "    <tr>\n",
       "      <th>15.56</th>\n",
       "      <td>193.896667</td>\n",
       "    </tr>\n",
       "    <tr>\n",
       "      <th>17.68</th>\n",
       "      <td>70.560000</td>\n",
       "    </tr>\n",
       "    <tr>\n",
       "      <th>21.61</th>\n",
       "      <td>0.449024</td>\n",
       "    </tr>\n",
       "    <tr>\n",
       "      <th>55.57</th>\n",
       "      <td>2.574221</td>\n",
       "    </tr>\n",
       "    <tr>\n",
       "      <th>59.85</th>\n",
       "      <td>1.672703</td>\n",
       "    </tr>\n",
       "  </tbody>\n",
       "</table>\n",
       "</div>"
      ],
      "text/plain": [
       "              Money_Value\n",
       "Sector_score             \n",
       "1.85             2.401579\n",
       "1.99            26.892340\n",
       "2.34            16.792000\n",
       "2.36            88.400000\n",
       "2.37             5.569189\n",
       "2.72            30.059512\n",
       "3.41            18.294737\n",
       "3.89            33.157842\n",
       "15.56          193.896667\n",
       "17.68           70.560000\n",
       "21.61            0.449024\n",
       "55.57            2.574221\n",
       "59.85            1.672703"
      ]
     },
     "execution_count": 12,
     "metadata": {},
     "output_type": "execute_result"
    }
   ],
   "source": [
    "audit[['Sector_score','Money_Value']].groupby('Sector_score').mean()"
   ]
  },
  {
   "cell_type": "code",
   "execution_count": 13,
   "metadata": {},
   "outputs": [
    {
     "data": {
      "text/html": [
       "<div>\n",
       "<style>\n",
       "    .dataframe thead tr:only-child th {\n",
       "        text-align: right;\n",
       "    }\n",
       "\n",
       "    .dataframe thead th {\n",
       "        text-align: left;\n",
       "    }\n",
       "\n",
       "    .dataframe tbody tr th {\n",
       "        vertical-align: top;\n",
       "    }\n",
       "</style>\n",
       "<table border=\"1\" class=\"dataframe\">\n",
       "  <thead>\n",
       "    <tr style=\"text-align: right;\">\n",
       "      <th></th>\n",
       "      <th>Money_Value</th>\n",
       "    </tr>\n",
       "    <tr>\n",
       "      <th>Sector_score</th>\n",
       "      <th></th>\n",
       "    </tr>\n",
       "  </thead>\n",
       "  <tbody>\n",
       "    <tr>\n",
       "      <th>1.85</th>\n",
       "      <td>0.020</td>\n",
       "    </tr>\n",
       "    <tr>\n",
       "      <th>1.99</th>\n",
       "      <td>0.050</td>\n",
       "    </tr>\n",
       "    <tr>\n",
       "      <th>2.34</th>\n",
       "      <td>0.000</td>\n",
       "    </tr>\n",
       "    <tr>\n",
       "      <th>2.36</th>\n",
       "      <td>88.400</td>\n",
       "    </tr>\n",
       "    <tr>\n",
       "      <th>2.37</th>\n",
       "      <td>0.575</td>\n",
       "    </tr>\n",
       "    <tr>\n",
       "      <th>2.72</th>\n",
       "      <td>8.325</td>\n",
       "    </tr>\n",
       "    <tr>\n",
       "      <th>3.41</th>\n",
       "      <td>10.215</td>\n",
       "    </tr>\n",
       "    <tr>\n",
       "      <th>3.89</th>\n",
       "      <td>2.565</td>\n",
       "    </tr>\n",
       "    <tr>\n",
       "      <th>15.56</th>\n",
       "      <td>160.410</td>\n",
       "    </tr>\n",
       "    <tr>\n",
       "      <th>17.68</th>\n",
       "      <td>70.560</td>\n",
       "    </tr>\n",
       "    <tr>\n",
       "      <th>21.61</th>\n",
       "      <td>0.000</td>\n",
       "    </tr>\n",
       "    <tr>\n",
       "      <th>55.57</th>\n",
       "      <td>0.000</td>\n",
       "    </tr>\n",
       "    <tr>\n",
       "      <th>59.85</th>\n",
       "      <td>0.290</td>\n",
       "    </tr>\n",
       "  </tbody>\n",
       "</table>\n",
       "</div>"
      ],
      "text/plain": [
       "              Money_Value\n",
       "Sector_score             \n",
       "1.85                0.020\n",
       "1.99                0.050\n",
       "2.34                0.000\n",
       "2.36               88.400\n",
       "2.37                0.575\n",
       "2.72                8.325\n",
       "3.41               10.215\n",
       "3.89                2.565\n",
       "15.56             160.410\n",
       "17.68              70.560\n",
       "21.61               0.000\n",
       "55.57               0.000\n",
       "59.85               0.290"
      ]
     },
     "execution_count": 13,
     "metadata": {},
     "output_type": "execute_result"
    }
   ],
   "source": [
    "audit[['Sector_score','Money_Value']].groupby('Sector_score').median()"
   ]
  },
  {
   "cell_type": "markdown",
   "metadata": {},
   "source": [
    "Sector_Score - Is the score of each firm mentioned above in Data Description\n",
    "\n",
    "Missing value is in 'Money_Value' that falls under Sector_Score = 55.57.\n",
    "\n",
    "Impute the missing value with median of Money_Value under Sector_score = 55.57"
   ]
  },
  {
   "cell_type": "code",
   "execution_count": 14,
   "metadata": {
    "collapsed": true
   },
   "outputs": [],
   "source": [
    "audit['Money_Value'].fillna(0,inplace=True)\n",
    "trial['Money_Value'].fillna(0,inplace=True)"
   ]
  },
  {
   "cell_type": "markdown",
   "metadata": {},
   "source": [
    "#### 2. Merging Datasets"
   ]
  },
  {
   "cell_type": "markdown",
   "metadata": {},
   "source": [
    "Both dataframes (audit, trial) have similar columns that hold similar value\n",
    "\n",
    "First sort by common columns and concatenate later\n",
    "\n",
    "So selecting only unique column from trial data frame and concatenating to audit for analysis\n",
    "\n",
    "Removing the column ('LOCATION_ID') on which analysis is not done"
   ]
  },
  {
   "cell_type": "code",
   "execution_count": 15,
   "metadata": {
    "collapsed": true
   },
   "outputs": [],
   "source": [
    "# Sorting the data frames\n",
    "audit = audit.sort_values(by=['LOCATION_ID','TOTAL'])\n",
    "trial = trial.sort_values(by=['LOCATION_ID','TOTAL'])\n",
    "\n",
    "#Concatinate data frames\n",
    "data = pd.concat([audit,trial[['Loss','History_score','LOSS_SCORE','MONEY_Marks']]],axis=1)\n",
    "\n",
    "#Removing LOCATION_ID\n",
    "data.drop('LOCATION_ID',axis=1,inplace=True)"
   ]
  },
  {
   "cell_type": "markdown",
   "metadata": {},
   "source": [
    "#### 3. Handling Outliers"
   ]
  },
  {
   "cell_type": "markdown",
   "metadata": {},
   "source": [
    "In data distribution section we can across an outlier with large Audit_Risk, TOTAL value. We can handle this enither by imputing with a mean value or removing the outlier value.\n",
    "\n",
    "Let's remove the outlier observation from data"
   ]
  },
  {
   "cell_type": "code",
   "execution_count": 16,
   "metadata": {},
   "outputs": [
    {
     "data": {
      "text/plain": [
       "1268.9100000000001"
      ]
     },
     "execution_count": 16,
     "metadata": {},
     "output_type": "execute_result"
    }
   ],
   "source": [
    "data['TOTAL'].max()\n",
    "# 1268.91"
   ]
  },
  {
   "cell_type": "code",
   "execution_count": 17,
   "metadata": {},
   "outputs": [
    {
     "data": {
      "text/html": [
       "<div>\n",
       "<style>\n",
       "    .dataframe thead tr:only-child th {\n",
       "        text-align: right;\n",
       "    }\n",
       "\n",
       "    .dataframe thead th {\n",
       "        text-align: left;\n",
       "    }\n",
       "\n",
       "    .dataframe tbody tr th {\n",
       "        vertical-align: top;\n",
       "    }\n",
       "</style>\n",
       "<table border=\"1\" class=\"dataframe\">\n",
       "  <thead>\n",
       "    <tr style=\"text-align: right;\">\n",
       "      <th></th>\n",
       "      <th>Sector_score</th>\n",
       "      <th>PARA_A</th>\n",
       "      <th>Score_A</th>\n",
       "      <th>Risk_A</th>\n",
       "      <th>PARA_B</th>\n",
       "      <th>Score_B</th>\n",
       "      <th>Risk_B</th>\n",
       "      <th>TOTAL</th>\n",
       "      <th>numbers</th>\n",
       "      <th>Score_B.1</th>\n",
       "      <th>...</th>\n",
       "      <th>Score</th>\n",
       "      <th>Inherent_Risk</th>\n",
       "      <th>CONTROL_RISK</th>\n",
       "      <th>Detection_Risk</th>\n",
       "      <th>Audit_Risk</th>\n",
       "      <th>Risk</th>\n",
       "      <th>Loss</th>\n",
       "      <th>History_score</th>\n",
       "      <th>LOSS_SCORE</th>\n",
       "      <th>MONEY_Marks</th>\n",
       "    </tr>\n",
       "  </thead>\n",
       "  <tbody>\n",
       "    <tr>\n",
       "      <th>241</th>\n",
       "      <td>2.72</td>\n",
       "      <td>4.28</td>\n",
       "      <td>0.6</td>\n",
       "      <td>2.568</td>\n",
       "      <td>1264.63</td>\n",
       "      <td>0.6</td>\n",
       "      <td>758.778</td>\n",
       "      <td>1268.91</td>\n",
       "      <td>5.5</td>\n",
       "      <td>0.4</td>\n",
       "      <td>...</td>\n",
       "      <td>5.2</td>\n",
       "      <td>801.262</td>\n",
       "      <td>2.4</td>\n",
       "      <td>0.5</td>\n",
       "      <td>961.5144</td>\n",
       "      <td>1</td>\n",
       "      <td>0</td>\n",
       "      <td>6</td>\n",
       "      <td>2</td>\n",
       "      <td>6</td>\n",
       "    </tr>\n",
       "  </tbody>\n",
       "</table>\n",
       "<p>1 rows × 30 columns</p>\n",
       "</div>"
      ],
      "text/plain": [
       "     Sector_score  PARA_A  Score_A  Risk_A   PARA_B  Score_B   Risk_B  \\\n",
       "241          2.72    4.28      0.6   2.568  1264.63      0.6  758.778   \n",
       "\n",
       "       TOTAL  numbers  Score_B.1     ...       Score  Inherent_Risk  \\\n",
       "241  1268.91      5.5        0.4     ...         5.2        801.262   \n",
       "\n",
       "     CONTROL_RISK  Detection_Risk  Audit_Risk  Risk  Loss  History_score  \\\n",
       "241           2.4             0.5    961.5144     1     0              6   \n",
       "\n",
       "     LOSS_SCORE  MONEY_Marks  \n",
       "241           2            6  \n",
       "\n",
       "[1 rows x 30 columns]"
      ]
     },
     "execution_count": 17,
     "metadata": {},
     "output_type": "execute_result"
    }
   ],
   "source": [
    "data[data['TOTAL'] == 1268.91]"
   ]
  },
  {
   "cell_type": "code",
   "execution_count": 18,
   "metadata": {
    "collapsed": true
   },
   "outputs": [],
   "source": [
    "# index = 241\n",
    "data.drop(241,inplace=True)"
   ]
  },
  {
   "cell_type": "code",
   "execution_count": 19,
   "metadata": {},
   "outputs": [
    {
     "data": {
      "text/plain": [
       "<matplotlib.axes._subplots.AxesSubplot at 0x1d8bae932e8>"
      ]
     },
     "execution_count": 19,
     "metadata": {},
     "output_type": "execute_result"
    },
    {
     "data": {
      "image/png": "[encoded data removed]",
      "text/plain": [
       "<matplotlib.figure.Figure at 0x1d8bae6d940>"
      ]
     },
     "metadata": {},
     "output_type": "display_data"
    }
   ],
   "source": [
    "#loooking for outliers in the risk colum after removing outlier\n",
    "sns.stripplot(x='Risk',y='Audit_Risk',data=data)"
   ]
  },
  {
   "cell_type": "markdown",
   "metadata": {},
   "source": [
    "### Feature Selection"
   ]
  },
  {
   "cell_type": "code",
   "execution_count": 20,
   "metadata": {},
   "outputs": [
    {
     "data": {
      "text/plain": [
       "Index(['Sector_score', 'PARA_A', 'Score_A', 'Risk_A', 'PARA_B', 'Score_B',\n",
       "       'Risk_B', 'TOTAL', 'numbers', 'Score_B.1', 'Risk_C', 'Money_Value',\n",
       "       'Score_MV', 'Risk_D', 'District_Loss', 'PROB', 'RiSk_E', 'History',\n",
       "       'Prob', 'Risk_F', 'Score', 'Inherent_Risk', 'CONTROL_RISK',\n",
       "       'Detection_Risk', 'Audit_Risk', 'Risk', 'Loss', 'History_score',\n",
       "       'LOSS_SCORE', 'MONEY_Marks'],\n",
       "      dtype='object')"
      ]
     },
     "execution_count": 20,
     "metadata": {},
     "output_type": "execute_result"
    }
   ],
   "source": [
    "data.columns"
   ]
  },
  {
   "cell_type": "code",
   "execution_count": 21,
   "metadata": {},
   "outputs": [
    {
     "data": {
      "text/plain": [
       "([<matplotlib.axis.YTick at 0x1d8baeeaa20>,\n",
       "  <matplotlib.axis.YTick at 0x1d8baeea128>,\n",
       "  <matplotlib.axis.YTick at 0x1d8baee1cf8>,\n",
       "  <matplotlib.axis.YTick at 0x1d8baf7ae48>,\n",
       "  <matplotlib.axis.YTick at 0x1d8baf834e0>,\n",
       "  <matplotlib.axis.YTick at 0x1d8baf83b70>,\n",
       "  <matplotlib.axis.YTick at 0x1d8baf8c240>,\n",
       "  <matplotlib.axis.YTick at 0x1d8baf8c8d0>,\n",
       "  <matplotlib.axis.YTick at 0x1d8baf8cf60>,\n",
       "  <matplotlib.axis.YTick at 0x1d8baf91630>,\n",
       "  <matplotlib.axis.YTick at 0x1d8baf91cc0>,\n",
       "  <matplotlib.axis.YTick at 0x1d8baf97390>,\n",
       "  <matplotlib.axis.YTick at 0x1d8baf97a20>,\n",
       "  <matplotlib.axis.YTick at 0x1d8baf9c0f0>,\n",
       "  <matplotlib.axis.YTick at 0x1d8baf9c780>,\n",
       "  <matplotlib.axis.YTick at 0x1d8baf9ce10>,\n",
       "  <matplotlib.axis.YTick at 0x1d8bafa24e0>,\n",
       "  <matplotlib.axis.YTick at 0x1d8bafa2b70>,\n",
       "  <matplotlib.axis.YTick at 0x1d8bafaa240>,\n",
       "  <matplotlib.axis.YTick at 0x1d8bafaa8d0>,\n",
       "  <matplotlib.axis.YTick at 0x1d8bafaaf60>,\n",
       "  <matplotlib.axis.YTick at 0x1d8bafb1630>,\n",
       "  <matplotlib.axis.YTick at 0x1d8bafb1cc0>,\n",
       "  <matplotlib.axis.YTick at 0x1d8bafb8390>,\n",
       "  <matplotlib.axis.YTick at 0x1d8bafb8a20>,\n",
       "  <matplotlib.axis.YTick at 0x1d8bafbe0f0>,\n",
       "  <matplotlib.axis.YTick at 0x1d8bafbe780>,\n",
       "  <matplotlib.axis.YTick at 0x1d8bafbee10>,\n",
       "  <matplotlib.axis.YTick at 0x1d8bafc44e0>,\n",
       "  <matplotlib.axis.YTick at 0x1d8bafc4b70>],\n",
       " <a list of 30 Text yticklabel objects>)"
      ]
     },
     "execution_count": 21,
     "metadata": {},
     "output_type": "execute_result"
    },
    {
     "data": {
      "image/png": "[encoded data removed]",
      "text/plain": [
       "<matplotlib.figure.Figure at 0x1d8bae99668>"
      ]
     },
     "metadata": {},
     "output_type": "display_data"
    }
   ],
   "source": [
    "fig, ax = plt.subplots(figsize=(20, 20))\n",
    "corr = data.corr()\n",
    "colormap = sns.diverging_palette(220, 10, as_cmap=True)\n",
    "sns.heatmap(corr, cmap=colormap, annot=True, fmt=\".2f\")\n",
    "plt.xticks(range(len(corr.columns)), corr.columns)\n",
    "plt.yticks(range(len(corr.columns)), corr.columns)"
   ]
  },
  {
   "cell_type": "markdown",
   "metadata": {},
   "source": [
    "Highly correlated variables deflects model's accuracy. So it's better to remove variables that are highly correlated.\n",
    "Choosing correlation = 0.7 as threshold and removing variables that have correlation greater than 0.7"
   ]
  },
  {
   "cell_type": "markdown",
   "metadata": {},
   "source": [
    "Below are the columns that that are considered for analysis which are less correlated\n",
    "\n",
    "Removing Risk column since it's formed due to Audit_Risk score. Being Risk(1/0) is due to Audit_Risk.  "
   ]
  },
  {
   "cell_type": "code",
   "execution_count": 22,
   "metadata": {
    "collapsed": true
   },
   "outputs": [],
   "source": [
    "data = data[['Sector_score', 'PARA_A', 'Score_A','PARA_B', 'Score_B','numbers','Money_Value','Score_MV','District_Loss','LOSS_SCORE','History_score','Audit_Risk']]"
   ]
  },
  {
   "cell_type": "code",
   "execution_count": 23,
   "metadata": {},
   "outputs": [
    {
     "data": {
      "text/plain": [
       "Index(['Sector_score', 'PARA_A', 'Score_A', 'PARA_B', 'Score_B', 'numbers',\n",
       "       'Money_Value', 'Score_MV', 'District_Loss', 'LOSS_SCORE',\n",
       "       'History_score', 'Audit_Risk'],\n",
       "      dtype='object')"
      ]
     },
     "execution_count": 23,
     "metadata": {},
     "output_type": "execute_result"
    }
   ],
   "source": [
    "data.columns"
   ]
  },
  {
   "cell_type": "markdown",
   "metadata": {},
   "source": [
    "### Data Scaling\n",
    "Since the variables we considered for analysis are not in same range we need to scale them before analysis."
   ]
  },
  {
   "cell_type": "code",
   "execution_count": 24,
   "metadata": {
    "collapsed": true
   },
   "outputs": [],
   "source": [
    "X = data.drop('Audit_Risk',axis=1)\n",
    "y = data['Audit_Risk']\n",
    "\n",
    "from sklearn.model_selection import train_test_split\n",
    "X_train_org, X_test_org, y_train, y_test = train_test_split(X, y, test_size=0.2, random_state=0)\n",
    "\n",
    "from sklearn.preprocessing import MinMaxScaler\n",
    "scaler = MinMaxScaler()\n",
    "X_train = scaler.fit_transform(X_train_org)\n",
    "X_test = scaler.transform(X_test_org)"
   ]
  },
  {
   "cell_type": "markdown",
   "metadata": {},
   "source": [
    "### Supervised Learning - Regression\n",
    "1. Linear Regression\n",
    "2. KNN Regressor\n",
    "3. Ridge Regression\n",
    "4. Lasso Regression\n",
    "5. Polynomial Regression\n",
    "6. SVM (simple & kernal)"
   ]
  },
  {
   "cell_type": "markdown",
   "metadata": {},
   "source": [
    "#### 1.Linear Regression"
   ]
  },
  {
   "cell_type": "code",
   "execution_count": 25,
   "metadata": {},
   "outputs": [
    {
     "name": "stdout",
     "output_type": "stream",
     "text": [
      "Train:0.8046\n",
      "Test:0.6695\n"
     ]
    }
   ],
   "source": [
    "#Linear Regression\n",
    "from sklearn.linear_model import LinearRegression\n",
    "lr = LinearRegression()\n",
    "lr.fit(X_train,y_train)\n",
    "print(\"Train:%.4f\"%lr.score(X_train,y_train))\n",
    "print(\"Test:%.4f\"%lr.score(X_test,y_test))\n"
   ]
  },
  {
   "cell_type": "code",
   "execution_count": 26,
   "metadata": {},
   "outputs": [
    {
     "name": "stdout",
     "output_type": "stream",
     "text": [
      "Train:0.8002\n",
      "Test:0.6659\n",
      "Best Parameters:{} {'copy_X': True, 'fit_intercept': False, 'normalize': True}\n"
     ]
    }
   ],
   "source": [
    "# Using GridSearch\n",
    "from sklearn.model_selection import GridSearchCV\n",
    "model = LinearRegression()\n",
    "parameters = {'fit_intercept':[True,False], 'normalize':[True,False], 'copy_X':[True, False]}\n",
    "grid = GridSearchCV(model,param_grid=parameters,cv=5)\n",
    "grid.fit(X_train,y_train)\n",
    "print(\"Train:%.4f\"%grid.score(X_train,y_train))\n",
    "print(\"Test:%.4f\"%grid.score(X_test,y_test))\n",
    "print(\"Best Parameters:{}\",format(grid.best_params_))"
   ]
  },
  {
   "cell_type": "code",
   "execution_count": 27,
   "metadata": {},
   "outputs": [
    {
     "name": "stdout",
     "output_type": "stream",
     "text": [
      "Avg Train Score:0.7571\n",
      "Avg Test Score:-0.1782\n"
     ]
    }
   ],
   "source": [
    "#cross validation\n",
    "from sklearn.model_selection import cross_val_score\n",
    "lr = LinearRegression()\n",
    "train_score = cross_val_score(lr,X_train,y_train,cv=5)\n",
    "test_score = cross_val_score(lr,X_test,y_test,cv=5)\n",
    "\n",
    "print(\"Avg Train Score:%.4f\"%train_score.mean())\n",
    "print(\"Avg Test Score:%.4f\"%test_score.mean())"
   ]
  },
  {
   "cell_type": "markdown",
   "metadata": {},
   "source": [
    "#### 2. KNN Regression"
   ]
  },
  {
   "cell_type": "code",
   "execution_count": 28,
   "metadata": {},
   "outputs": [
    {
     "name": "stdout",
     "output_type": "stream",
     "text": [
      "Train score: {} [1.0, 0.90390950296916817, 0.86533955696909992, 0.83165094789681149, 0.79934512846249128, 0.76545201765831195, 0.72673115574263725, 0.7073125826873784, 0.67870444947830055, 0.6653356013185483, 0.63798587155818987, 0.6192215679744375, 0.6065426423371989, 0.59453594458458281, 0.57740762609524343, 0.55905050362808872, 0.54641549752157959, 0.53743124369873629, 0.52631414420745171]\n",
      "Test score: {} [0.44058217171155045, 0.69193698680098614, 0.65963096239828212, 0.59266610055581248, 0.54195661790361638, 0.53459981801863099, 0.63908945470460132, 0.63372607105191836, 0.60455855471590159, 0.56879016430145324, 0.54984022892942985, 0.53529439569082071, 0.51438941759710177, 0.50234454635804338, 0.48857567602102397, 0.47293285512185268, 0.46562938283014865, 0.45773352421084568, 0.44347713224447716]\n"
     ]
    },
    {
     "data": {
      "text/plain": [
       "Text(0,0.5,'MSE')"
      ]
     },
     "execution_count": 28,
     "metadata": {},
     "output_type": "execute_result"
    },
    {
     "data": {
      "image/png": "[encoded data removed]",
      "text/plain": [
       "<matplotlib.figure.Figure at 0x1d8bb34f668>"
      ]
     },
     "metadata": {},
     "output_type": "display_data"
    }
   ],
   "source": [
    "from sklearn.neighbors import KNeighborsRegressor\n",
    "from sklearn.preprocessing import StandardScaler\n",
    "\n",
    "X_train_org, X_test_org, y_train, y_test = train_test_split(X,y,test_size=0.2,random_state = 0)\n",
    "\n",
    "scaler = StandardScaler()\n",
    "X_train = scaler.fit_transform(X_train_org)\n",
    "X_test = scaler.transform(X_test_org)\n",
    "\n",
    "train_score_array = []\n",
    "test_score_array = []\n",
    "\n",
    "for k in range(1,20):\n",
    "    knn_reg = KNeighborsRegressor(k)\n",
    "    knn_reg.fit(X_train, y_train)\n",
    "    train_score_array.append(knn_reg.score(X_train, y_train))\n",
    "    test_score_array.append(knn_reg.score(X_test, y_test))\n",
    "\n",
    "print(\"Train score: {}\",format(train_score_array))\n",
    "print(\"Test score: {}\",format(test_score_array))\n",
    "x_axis = range(1,20)\n",
    "plt.plot(x_axis, train_score_array, c = 'g', label = 'Train Score')\n",
    "plt.plot(x_axis, test_score_array, c = 'b', label = 'Test Score')\n",
    "plt.legend()\n",
    "plt.xlabel('k')\n",
    "plt.ylabel('MSE')"
   ]
  },
  {
   "cell_type": "code",
   "execution_count": 29,
   "metadata": {},
   "outputs": [
    {
     "name": "stdout",
     "output_type": "stream",
     "text": [
      "0.865339556969\n",
      "0.659630962398\n"
     ]
    }
   ],
   "source": [
    "knn = KNeighborsRegressor(3)\n",
    "knn.fit(X_train,y_train)\n",
    "print(knn.score(X_train,y_train))\n",
    "print(knn.score(X_test,y_test))"
   ]
  },
  {
   "cell_type": "code",
   "execution_count": 30,
   "metadata": {},
   "outputs": [
    {
     "name": "stdout",
     "output_type": "stream",
     "text": [
      "Avg Train Score:0.6872\n",
      "Avg Test Score:0.4047\n"
     ]
    }
   ],
   "source": [
    "# Using Cross Validation\n",
    "from sklearn.model_selection import cross_val_score\n",
    "knn_reg = KNeighborsRegressor(n_neighbors=3)\n",
    "train_score = cross_val_score(knn_reg,X_train,y_train,cv=10)\n",
    "test_score = cross_val_score(knn_reg,X_test,y_test,cv=10)\n",
    "\n",
    "print(\"Avg Train Score:%.4f\"%train_score.mean())\n",
    "print(\"Avg Test Score:%.4f\"%test_score.mean())"
   ]
  },
  {
   "cell_type": "code",
   "execution_count": 31,
   "metadata": {},
   "outputs": [
    {
     "data": {
      "text/plain": [
       "Text(0,0.5,'Cross-Validated Accuracy')"
      ]
     },
     "execution_count": 31,
     "metadata": {},
     "output_type": "execute_result"
    },
    {
     "data": {
      "image/png": "[encoded data removed]",
      "text/plain": [
       "<matplotlib.figure.Figure at 0x1d8bb374710>"
      ]
     },
     "metadata": {},
     "output_type": "display_data"
    }
   ],
   "source": [
    "k_range = range(1, 20)\n",
    "# list of scores from k_range\n",
    "k_train_scores = []\n",
    "k_test_scores = []\n",
    "\n",
    "# 1. we will loop through reasonable values of k\n",
    "for k in k_range:\n",
    "    # 2. run KNeighborsRegressor with k neighbours\n",
    "    knn = KNeighborsRegressor(n_neighbors=k)\n",
    "    # 3. obtain cross_val_score for KNeighborsRegressor with k neighbours\n",
    "    scores1 = cross_val_score(knn, X_train, y_train, cv=10)\n",
    "    scores2 = cross_val_score(knn, X_test, y_test, cv=10)\n",
    "    # 4. append mean of scores for k neighbors to k_scores list\n",
    "    k_train_scores.append(scores1.mean())\n",
    "    k_test_scores.append(scores2.mean())\n",
    "\n",
    "# plot the value of K for KNN (x-axis) versus the cross-validated accuracy (y-axis)\n",
    "plt.plot(k_range, k_train_scores,'b',label='Train Score')\n",
    "plt.plot(k_range, k_test_scores,'r',label='Test Score')\n",
    "plt.legend()\n",
    "plt.xlabel('Value of K for KNN')\n",
    "plt.ylabel('Cross-Validated Accuracy')"
   ]
  },
  {
   "cell_type": "code",
   "execution_count": 32,
   "metadata": {},
   "outputs": [
    {
     "name": "stdout",
     "output_type": "stream",
     "text": [
      "Best parameters: {'n_neighbors': 2}\n",
      "Best cross-validation score: 0.71\n"
     ]
    },
    {
     "name": "stderr",
     "output_type": "stream",
     "text": [
      "C:\\Users\\idv_1\\Anaconda3\\lib\\site-packages\\sklearn\\utils\\deprecation.py:122: FutureWarning: You are accessing a training score ('mean_train_score'), which will not be available by default any more in 0.21. If you need training scores, please set return_train_score=True\n",
      "  warnings.warn(*warn_args, **warn_kwargs)\n",
      "C:\\Users\\idv_1\\Anaconda3\\lib\\site-packages\\sklearn\\utils\\deprecation.py:122: FutureWarning: You are accessing a training score ('split0_train_score'), which will not be available by default any more in 0.21. If you need training scores, please set return_train_score=True\n",
      "  warnings.warn(*warn_args, **warn_kwargs)\n",
      "C:\\Users\\idv_1\\Anaconda3\\lib\\site-packages\\sklearn\\utils\\deprecation.py:122: FutureWarning: You are accessing a training score ('split1_train_score'), which will not be available by default any more in 0.21. If you need training scores, please set return_train_score=True\n",
      "  warnings.warn(*warn_args, **warn_kwargs)\n",
      "C:\\Users\\idv_1\\Anaconda3\\lib\\site-packages\\sklearn\\utils\\deprecation.py:122: FutureWarning: You are accessing a training score ('split2_train_score'), which will not be available by default any more in 0.21. If you need training scores, please set return_train_score=True\n",
      "  warnings.warn(*warn_args, **warn_kwargs)\n",
      "C:\\Users\\idv_1\\Anaconda3\\lib\\site-packages\\sklearn\\utils\\deprecation.py:122: FutureWarning: You are accessing a training score ('split3_train_score'), which will not be available by default any more in 0.21. If you need training scores, please set return_train_score=True\n",
      "  warnings.warn(*warn_args, **warn_kwargs)\n",
      "C:\\Users\\idv_1\\Anaconda3\\lib\\site-packages\\sklearn\\utils\\deprecation.py:122: FutureWarning: You are accessing a training score ('split4_train_score'), which will not be available by default any more in 0.21. If you need training scores, please set return_train_score=True\n",
      "  warnings.warn(*warn_args, **warn_kwargs)\n",
      "C:\\Users\\idv_1\\Anaconda3\\lib\\site-packages\\sklearn\\utils\\deprecation.py:122: FutureWarning: You are accessing a training score ('split5_train_score'), which will not be available by default any more in 0.21. If you need training scores, please set return_train_score=True\n",
      "  warnings.warn(*warn_args, **warn_kwargs)\n",
      "C:\\Users\\idv_1\\Anaconda3\\lib\\site-packages\\sklearn\\utils\\deprecation.py:122: FutureWarning: You are accessing a training score ('split6_train_score'), which will not be available by default any more in 0.21. If you need training scores, please set return_train_score=True\n",
      "  warnings.warn(*warn_args, **warn_kwargs)\n",
      "C:\\Users\\idv_1\\Anaconda3\\lib\\site-packages\\sklearn\\utils\\deprecation.py:122: FutureWarning: You are accessing a training score ('split7_train_score'), which will not be available by default any more in 0.21. If you need training scores, please set return_train_score=True\n",
      "  warnings.warn(*warn_args, **warn_kwargs)\n",
      "C:\\Users\\idv_1\\Anaconda3\\lib\\site-packages\\sklearn\\utils\\deprecation.py:122: FutureWarning: You are accessing a training score ('split8_train_score'), which will not be available by default any more in 0.21. If you need training scores, please set return_train_score=True\n",
      "  warnings.warn(*warn_args, **warn_kwargs)\n",
      "C:\\Users\\idv_1\\Anaconda3\\lib\\site-packages\\sklearn\\utils\\deprecation.py:122: FutureWarning: You are accessing a training score ('split9_train_score'), which will not be available by default any more in 0.21. If you need training scores, please set return_train_score=True\n",
      "  warnings.warn(*warn_args, **warn_kwargs)\n",
      "C:\\Users\\idv_1\\Anaconda3\\lib\\site-packages\\sklearn\\utils\\deprecation.py:122: FutureWarning: You are accessing a training score ('std_train_score'), which will not be available by default any more in 0.21. If you need training scores, please set return_train_score=True\n",
      "  warnings.warn(*warn_args, **warn_kwargs)\n"
     ]
    },
    {
     "data": {
      "text/html": [
       "<div>\n",
       "<style>\n",
       "    .dataframe thead tr:only-child th {\n",
       "        text-align: right;\n",
       "    }\n",
       "\n",
       "    .dataframe thead th {\n",
       "        text-align: left;\n",
       "    }\n",
       "\n",
       "    .dataframe tbody tr th {\n",
       "        vertical-align: top;\n",
       "    }\n",
       "</style>\n",
       "<table border=\"1\" class=\"dataframe\">\n",
       "  <thead>\n",
       "    <tr style=\"text-align: right;\">\n",
       "      <th></th>\n",
       "      <th>mean_fit_time</th>\n",
       "      <th>mean_score_time</th>\n",
       "      <th>mean_test_score</th>\n",
       "      <th>mean_train_score</th>\n",
       "      <th>param_n_neighbors</th>\n",
       "      <th>params</th>\n",
       "      <th>rank_test_score</th>\n",
       "      <th>split0_test_score</th>\n",
       "      <th>split0_train_score</th>\n",
       "      <th>split1_test_score</th>\n",
       "      <th>...</th>\n",
       "      <th>split7_test_score</th>\n",
       "      <th>split7_train_score</th>\n",
       "      <th>split8_test_score</th>\n",
       "      <th>split8_train_score</th>\n",
       "      <th>split9_test_score</th>\n",
       "      <th>split9_train_score</th>\n",
       "      <th>std_fit_time</th>\n",
       "      <th>std_score_time</th>\n",
       "      <th>std_test_score</th>\n",
       "      <th>std_train_score</th>\n",
       "    </tr>\n",
       "  </thead>\n",
       "  <tbody>\n",
       "    <tr>\n",
       "      <th>0</th>\n",
       "      <td>0.001099</td>\n",
       "      <td>0.001298</td>\n",
       "      <td>0.638028</td>\n",
       "      <td>1.000000</td>\n",
       "      <td>1</td>\n",
       "      <td>{'n_neighbors': 1}</td>\n",
       "      <td>9</td>\n",
       "      <td>0.522538</td>\n",
       "      <td>1.000000</td>\n",
       "      <td>0.614309</td>\n",
       "      <td>...</td>\n",
       "      <td>0.698637</td>\n",
       "      <td>1.000000</td>\n",
       "      <td>0.594524</td>\n",
       "      <td>1.000000</td>\n",
       "      <td>0.653455</td>\n",
       "      <td>1.000000</td>\n",
       "      <td>0.000299</td>\n",
       "      <td>0.000456</td>\n",
       "      <td>0.124499</td>\n",
       "      <td>0.000000</td>\n",
       "    </tr>\n",
       "    <tr>\n",
       "      <th>1</th>\n",
       "      <td>0.000901</td>\n",
       "      <td>0.001399</td>\n",
       "      <td>0.710444</td>\n",
       "      <td>0.905076</td>\n",
       "      <td>2</td>\n",
       "      <td>{'n_neighbors': 2}</td>\n",
       "      <td>1</td>\n",
       "      <td>0.503267</td>\n",
       "      <td>0.910738</td>\n",
       "      <td>0.649642</td>\n",
       "      <td>...</td>\n",
       "      <td>0.726777</td>\n",
       "      <td>0.903881</td>\n",
       "      <td>0.706984</td>\n",
       "      <td>0.899534</td>\n",
       "      <td>0.583312</td>\n",
       "      <td>0.901663</td>\n",
       "      <td>0.000300</td>\n",
       "      <td>0.000490</td>\n",
       "      <td>0.136305</td>\n",
       "      <td>0.007772</td>\n",
       "    </tr>\n",
       "    <tr>\n",
       "      <th>2</th>\n",
       "      <td>0.000900</td>\n",
       "      <td>0.001501</td>\n",
       "      <td>0.687188</td>\n",
       "      <td>0.861413</td>\n",
       "      <td>3</td>\n",
       "      <td>{'n_neighbors': 3}</td>\n",
       "      <td>4</td>\n",
       "      <td>0.463055</td>\n",
       "      <td>0.896986</td>\n",
       "      <td>0.789152</td>\n",
       "      <td>...</td>\n",
       "      <td>0.617936</td>\n",
       "      <td>0.865185</td>\n",
       "      <td>0.703265</td>\n",
       "      <td>0.855541</td>\n",
       "      <td>0.570629</td>\n",
       "      <td>0.883125</td>\n",
       "      <td>0.000300</td>\n",
       "      <td>0.000497</td>\n",
       "      <td>0.128279</td>\n",
       "      <td>0.024478</td>\n",
       "    </tr>\n",
       "    <tr>\n",
       "      <th>3</th>\n",
       "      <td>0.000999</td>\n",
       "      <td>0.001301</td>\n",
       "      <td>0.701455</td>\n",
       "      <td>0.824384</td>\n",
       "      <td>4</td>\n",
       "      <td>{'n_neighbors': 4}</td>\n",
       "      <td>2</td>\n",
       "      <td>0.482008</td>\n",
       "      <td>0.878271</td>\n",
       "      <td>0.767783</td>\n",
       "      <td>...</td>\n",
       "      <td>0.703330</td>\n",
       "      <td>0.831726</td>\n",
       "      <td>0.950628</td>\n",
       "      <td>0.830117</td>\n",
       "      <td>0.571638</td>\n",
       "      <td>0.834612</td>\n",
       "      <td>0.000001</td>\n",
       "      <td>0.000460</td>\n",
       "      <td>0.136332</td>\n",
       "      <td>0.032290</td>\n",
       "    </tr>\n",
       "    <tr>\n",
       "      <th>4</th>\n",
       "      <td>0.001299</td>\n",
       "      <td>0.009595</td>\n",
       "      <td>0.690745</td>\n",
       "      <td>0.786451</td>\n",
       "      <td>5</td>\n",
       "      <td>{'n_neighbors': 5}</td>\n",
       "      <td>3</td>\n",
       "      <td>0.453121</td>\n",
       "      <td>0.843363</td>\n",
       "      <td>0.726159</td>\n",
       "      <td>...</td>\n",
       "      <td>0.704111</td>\n",
       "      <td>0.798293</td>\n",
       "      <td>0.941943</td>\n",
       "      <td>0.785555</td>\n",
       "      <td>0.582141</td>\n",
       "      <td>0.801945</td>\n",
       "      <td>0.000640</td>\n",
       "      <td>0.022522</td>\n",
       "      <td>0.141446</td>\n",
       "      <td>0.033176</td>\n",
       "    </tr>\n",
       "  </tbody>\n",
       "</table>\n",
       "<p>5 rows × 31 columns</p>\n",
       "</div>"
      ],
      "text/plain": [
       "   mean_fit_time  mean_score_time  mean_test_score  mean_train_score  \\\n",
       "0       0.001099         0.001298         0.638028          1.000000   \n",
       "1       0.000901         0.001399         0.710444          0.905076   \n",
       "2       0.000900         0.001501         0.687188          0.861413   \n",
       "3       0.000999         0.001301         0.701455          0.824384   \n",
       "4       0.001299         0.009595         0.690745          0.786451   \n",
       "\n",
       "  param_n_neighbors              params  rank_test_score  split0_test_score  \\\n",
       "0                 1  {'n_neighbors': 1}                9           0.522538   \n",
       "1                 2  {'n_neighbors': 2}                1           0.503267   \n",
       "2                 3  {'n_neighbors': 3}                4           0.463055   \n",
       "3                 4  {'n_neighbors': 4}                2           0.482008   \n",
       "4                 5  {'n_neighbors': 5}                3           0.453121   \n",
       "\n",
       "   split0_train_score  split1_test_score       ...         split7_test_score  \\\n",
       "0            1.000000           0.614309       ...                  0.698637   \n",
       "1            0.910738           0.649642       ...                  0.726777   \n",
       "2            0.896986           0.789152       ...                  0.617936   \n",
       "3            0.878271           0.767783       ...                  0.703330   \n",
       "4            0.843363           0.726159       ...                  0.704111   \n",
       "\n",
       "   split7_train_score  split8_test_score  split8_train_score  \\\n",
       "0            1.000000           0.594524            1.000000   \n",
       "1            0.903881           0.706984            0.899534   \n",
       "2            0.865185           0.703265            0.855541   \n",
       "3            0.831726           0.950628            0.830117   \n",
       "4            0.798293           0.941943            0.785555   \n",
       "\n",
       "   split9_test_score  split9_train_score  std_fit_time  std_score_time  \\\n",
       "0           0.653455            1.000000      0.000299        0.000456   \n",
       "1           0.583312            0.901663      0.000300        0.000490   \n",
       "2           0.570629            0.883125      0.000300        0.000497   \n",
       "3           0.571638            0.834612      0.000001        0.000460   \n",
       "4           0.582141            0.801945      0.000640        0.022522   \n",
       "\n",
       "   std_test_score  std_train_score  \n",
       "0        0.124499         0.000000  \n",
       "1        0.136305         0.007772  \n",
       "2        0.128279         0.024478  \n",
       "3        0.136332         0.032290  \n",
       "4        0.141446         0.033176  \n",
       "\n",
       "[5 rows x 31 columns]"
      ]
     },
     "metadata": {},
     "output_type": "display_data"
    }
   ],
   "source": [
    "#Most efficient parameter using GridSearch()\n",
    "from sklearn.model_selection import GridSearchCV\n",
    "k_range = list(range(1, 31))\n",
    "param_grid = dict(n_neighbors=k_range)\n",
    "grid = GridSearchCV(knn, param_grid, cv=10)\n",
    "grid.fit(X_train,y_train)\n",
    "grid.best_score_\n",
    "grid.best_estimator_\n",
    "\n",
    "print(\"Best parameters: {}\".format(grid.best_params_))\n",
    "print(\"Best cross-validation score: {:.2f}\".format(grid.best_score_))\n",
    "\n",
    "results = pd.DataFrame(grid.cv_results_)\n",
    "# show the first 5 rows\n",
    "display(results.head())"
   ]
  },
  {
   "cell_type": "markdown",
   "metadata": {
    "collapsed": true
   },
   "source": [
    "#### 3.Ridge Regression"
   ]
  },
  {
   "cell_type": "code",
   "execution_count": 33,
   "metadata": {},
   "outputs": [
    {
     "data": {
      "text/plain": [
       "Text(0.5,0,'$\\\\alpha$')"
      ]
     },
     "execution_count": 33,
     "metadata": {},
     "output_type": "execute_result"
    },
    {
     "data": {
      "image/png": "[encoded data removed]",
      "text/plain": [
       "<matplotlib.figure.Figure at 0x1d8bb460128>"
      ]
     },
     "metadata": {},
     "output_type": "display_data"
    }
   ],
   "source": [
    "from  sklearn.linear_model import Ridge\n",
    "\n",
    "x_range = [0.01, 0.1, 1, 10, 100,1000]\n",
    "train_score_list = []\n",
    "test_score_list = []\n",
    "\n",
    "for alpha in x_range: \n",
    "    ridge = Ridge(alpha)\n",
    "    ridge.fit(X_train,y_train)\n",
    "    train_score_list.append(ridge.score(X_train,y_train))\n",
    "    test_score_list.append(ridge.score(X_test, y_test))\n",
    "\n",
    "plt.plot(x_range, train_score_list, c = 'g', label = 'Train Score')\n",
    "plt.plot(x_range, test_score_list, c = 'b', label = 'Test Score')\n",
    "plt.xscale('log')\n",
    "plt.legend(loc = 3)\n",
    "plt.xlabel(r'$\\alpha$')"
   ]
  },
  {
   "cell_type": "code",
   "execution_count": 34,
   "metadata": {},
   "outputs": [
    {
     "name": "stdout",
     "output_type": "stream",
     "text": [
      "Train score: 0.8046\n",
      "Test score: 0.6695\n"
     ]
    }
   ],
   "source": [
    "ridge = Ridge(alpha = 0.01)\n",
    "ridge.fit(X_train,y_train)\n",
    "print('Train score: {:.4f}'.format(ridge.score(X_train,y_train)))\n",
    "print('Test score: {:.4f}'.format(ridge.score(X_test, y_test)))"
   ]
  },
  {
   "cell_type": "code",
   "execution_count": 35,
   "metadata": {},
   "outputs": [
    {
     "data": {
      "text/plain": [
       "<matplotlib.legend.Legend at 0x1d8bb6d3cf8>"
      ]
     },
     "execution_count": 35,
     "metadata": {},
     "output_type": "execute_result"
    },
    {
     "data": {
      "image/png": "[encoded data removed]",
      "text/plain": [
       "<matplotlib.figure.Figure at 0x1d8bb582ef0>"
      ]
     },
     "metadata": {},
     "output_type": "display_data"
    }
   ],
   "source": [
    "x_range1 = np.linspace(0.001, 1, 100).reshape(-1,1)\n",
    "x_range2 = np.linspace(1, 10000, 100).reshape(-1,1)\n",
    "\n",
    "x_range = np.append(x_range1, x_range2)\n",
    "coeff = []\n",
    "\n",
    "for alpha in x_range: \n",
    "    ridge = Ridge(alpha)\n",
    "    ridge.fit(X_train,y_train)\n",
    "    coeff.append(ridge.coef_ )\n",
    "    \n",
    "coeff = np.array(coeff)\n",
    "\n",
    "for i in range(0,10):\n",
    "    plt.plot(x_range, coeff[:,i], label = 'feature {:d}'.format(i))\n",
    "\n",
    "plt.axhline(y=0, xmin=0.001, xmax=9999, linewidth=1, c ='gray')\n",
    "plt.xlabel(r'$\\alpha$')\n",
    "plt.xscale('log')\n",
    "plt.legend(loc='upper center', bbox_to_anchor=(0.5, 1.5),\n",
    "          ncol=3, fancybox=True, shadow=True)"
   ]
  },
  {
   "cell_type": "code",
   "execution_count": 36,
   "metadata": {},
   "outputs": [
    {
     "name": "stdout",
     "output_type": "stream",
     "text": [
      "Avg Train Score:0.6067\n",
      "Avg Test Score:0.2270\n"
     ]
    }
   ],
   "source": [
    "#cross validation\n",
    "ridge = Ridge(alpha = 1000)\n",
    "train_score = cross_val_score(ridge,X_train,y_train,cv=5)\n",
    "test_score = cross_val_score(ridge,X_test,y_test,cv=5)\n",
    "print(\"Avg Train Score:%.4f\"%train_score.mean())\n",
    "print(\"Avg Test Score:%.4f\"%test_score.mean())"
   ]
  },
  {
   "cell_type": "code",
   "execution_count": 37,
   "metadata": {},
   "outputs": [
    {
     "data": {
      "text/plain": [
       "Text(0,0.5,'Cross-Validated Accuracy')"
      ]
     },
     "execution_count": 37,
     "metadata": {},
     "output_type": "execute_result"
    },
    {
     "data": {
      "image/png": "[encoded data removed]",
      "text/plain": [
       "<matplotlib.figure.Figure at 0x1d8bb582390>"
      ]
     },
     "metadata": {},
     "output_type": "display_data"
    }
   ],
   "source": [
    "alpha = [0.001,0.01, 0.1,1,10,100,1000]\n",
    "\n",
    "ridge_train_scores = []\n",
    "ridge_test_scores = []\n",
    "\n",
    "# 1. we will loop through reasonable values of k\n",
    "for i in alpha:\n",
    "    # 2. run KNeighborsClassifier with k neighbours\n",
    "    ridge = Ridge(i)\n",
    "    # 3. obtain cross_val_score for KNeighborsClassifier with k neighbours\n",
    "    scores1 = cross_val_score(ridge, X_train, y_train, cv=10)\n",
    "    scores2 = cross_val_score(ridge, X_test, y_test, cv=10)\n",
    "    # 4. append mean of scores for k neighbors to k_scores list\n",
    "    ridge_train_scores.append(scores1.mean())\n",
    "    ridge_test_scores.append(scores2.mean())\n",
    "\n",
    "# plot the value of K for KNN (x-axis) versus the cross-validated accuracy (y-axis)\n",
    "plt.plot(alpha, ridge_train_scores,'b',label='Train Score')\n",
    "plt.plot(alpha, ridge_test_scores,'r',label='Test Score')\n",
    "plt.legend()\n",
    "plt.xlabel('Value of alpha for Ridge')\n",
    "plt.ylabel('Cross-Validated Accuracy')"
   ]
  },
  {
   "cell_type": "code",
   "execution_count": 38,
   "metadata": {},
   "outputs": [
    {
     "name": "stdout",
     "output_type": "stream",
     "text": [
      "Best parameters: {'alpha': 100.0}\n",
      "Best cross-validation score: 0.75\n"
     ]
    },
    {
     "name": "stderr",
     "output_type": "stream",
     "text": [
      "C:\\Users\\idv_1\\Anaconda3\\lib\\site-packages\\sklearn\\utils\\deprecation.py:122: FutureWarning: You are accessing a training score ('mean_train_score'), which will not be available by default any more in 0.21. If you need training scores, please set return_train_score=True\n",
      "  warnings.warn(*warn_args, **warn_kwargs)\n",
      "C:\\Users\\idv_1\\Anaconda3\\lib\\site-packages\\sklearn\\utils\\deprecation.py:122: FutureWarning: You are accessing a training score ('split0_train_score'), which will not be available by default any more in 0.21. If you need training scores, please set return_train_score=True\n",
      "  warnings.warn(*warn_args, **warn_kwargs)\n",
      "C:\\Users\\idv_1\\Anaconda3\\lib\\site-packages\\sklearn\\utils\\deprecation.py:122: FutureWarning: You are accessing a training score ('split1_train_score'), which will not be available by default any more in 0.21. If you need training scores, please set return_train_score=True\n",
      "  warnings.warn(*warn_args, **warn_kwargs)\n",
      "C:\\Users\\idv_1\\Anaconda3\\lib\\site-packages\\sklearn\\utils\\deprecation.py:122: FutureWarning: You are accessing a training score ('split2_train_score'), which will not be available by default any more in 0.21. If you need training scores, please set return_train_score=True\n",
      "  warnings.warn(*warn_args, **warn_kwargs)\n",
      "C:\\Users\\idv_1\\Anaconda3\\lib\\site-packages\\sklearn\\utils\\deprecation.py:122: FutureWarning: You are accessing a training score ('std_train_score'), which will not be available by default any more in 0.21. If you need training scores, please set return_train_score=True\n",
      "  warnings.warn(*warn_args, **warn_kwargs)\n"
     ]
    },
    {
     "data": {
      "text/html": [
       "<div>\n",
       "<style>\n",
       "    .dataframe thead tr:only-child th {\n",
       "        text-align: right;\n",
       "    }\n",
       "\n",
       "    .dataframe thead th {\n",
       "        text-align: left;\n",
       "    }\n",
       "\n",
       "    .dataframe tbody tr th {\n",
       "        vertical-align: top;\n",
       "    }\n",
       "</style>\n",
       "<table border=\"1\" class=\"dataframe\">\n",
       "  <thead>\n",
       "    <tr style=\"text-align: right;\">\n",
       "      <th></th>\n",
       "      <th>mean_fit_time</th>\n",
       "      <th>mean_score_time</th>\n",
       "      <th>mean_test_score</th>\n",
       "      <th>mean_train_score</th>\n",
       "      <th>param_alpha</th>\n",
       "      <th>params</th>\n",
       "      <th>rank_test_score</th>\n",
       "      <th>split0_test_score</th>\n",
       "      <th>split0_train_score</th>\n",
       "      <th>split1_test_score</th>\n",
       "      <th>split1_train_score</th>\n",
       "      <th>split2_test_score</th>\n",
       "      <th>split2_train_score</th>\n",
       "      <th>std_fit_time</th>\n",
       "      <th>std_score_time</th>\n",
       "      <th>std_test_score</th>\n",
       "      <th>std_train_score</th>\n",
       "    </tr>\n",
       "  </thead>\n",
       "  <tbody>\n",
       "    <tr>\n",
       "      <th>0</th>\n",
       "      <td>0.001999</td>\n",
       "      <td>0.000000</td>\n",
       "      <td>0.549374</td>\n",
       "      <td>0.537004</td>\n",
       "      <td>1000</td>\n",
       "      <td>{'alpha': 1000.0}</td>\n",
       "      <td>7</td>\n",
       "      <td>0.398668</td>\n",
       "      <td>0.535237</td>\n",
       "      <td>0.554192</td>\n",
       "      <td>0.495344</td>\n",
       "      <td>0.695971</td>\n",
       "      <td>0.580431</td>\n",
       "      <td>1.123916e-07</td>\n",
       "      <td>0.000000e+00</td>\n",
       "      <td>0.121372</td>\n",
       "      <td>0.034759</td>\n",
       "    </tr>\n",
       "    <tr>\n",
       "      <th>1</th>\n",
       "      <td>0.001999</td>\n",
       "      <td>0.000666</td>\n",
       "      <td>0.745959</td>\n",
       "      <td>0.790389</td>\n",
       "      <td>100</td>\n",
       "      <td>{'alpha': 100.0}</td>\n",
       "      <td>1</td>\n",
       "      <td>0.689215</td>\n",
       "      <td>0.822006</td>\n",
       "      <td>0.832997</td>\n",
       "      <td>0.754247</td>\n",
       "      <td>0.715518</td>\n",
       "      <td>0.794914</td>\n",
       "      <td>1.946680e-07</td>\n",
       "      <td>4.712019e-04</td>\n",
       "      <td>0.062548</td>\n",
       "      <td>0.027847</td>\n",
       "    </tr>\n",
       "    <tr>\n",
       "      <th>2</th>\n",
       "      <td>0.001666</td>\n",
       "      <td>0.001000</td>\n",
       "      <td>0.742007</td>\n",
       "      <td>0.815659</td>\n",
       "      <td>10</td>\n",
       "      <td>{'alpha': 10.0}</td>\n",
       "      <td>2</td>\n",
       "      <td>0.739684</td>\n",
       "      <td>0.855724</td>\n",
       "      <td>0.835381</td>\n",
       "      <td>0.781726</td>\n",
       "      <td>0.650513</td>\n",
       "      <td>0.809525</td>\n",
       "      <td>4.713710e-04</td>\n",
       "      <td>1.123916e-07</td>\n",
       "      <td>0.075459</td>\n",
       "      <td>0.030519</td>\n",
       "    </tr>\n",
       "    <tr>\n",
       "      <th>3</th>\n",
       "      <td>0.001333</td>\n",
       "      <td>0.001000</td>\n",
       "      <td>0.737296</td>\n",
       "      <td>0.816186</td>\n",
       "      <td>1</td>\n",
       "      <td>{'alpha': 1.0}</td>\n",
       "      <td>3</td>\n",
       "      <td>0.741957</td>\n",
       "      <td>0.856533</td>\n",
       "      <td>0.830478</td>\n",
       "      <td>0.782261</td>\n",
       "      <td>0.638977</td>\n",
       "      <td>0.809765</td>\n",
       "      <td>4.714266e-04</td>\n",
       "      <td>8.485379e-07</td>\n",
       "      <td>0.078218</td>\n",
       "      <td>0.030660</td>\n",
       "    </tr>\n",
       "    <tr>\n",
       "      <th>4</th>\n",
       "      <td>0.001667</td>\n",
       "      <td>0.000333</td>\n",
       "      <td>0.736727</td>\n",
       "      <td>0.816192</td>\n",
       "      <td>0.1</td>\n",
       "      <td>{'alpha': 0.1}</td>\n",
       "      <td>4</td>\n",
       "      <td>0.742083</td>\n",
       "      <td>0.856542</td>\n",
       "      <td>0.829887</td>\n",
       "      <td>0.782267</td>\n",
       "      <td>0.637732</td>\n",
       "      <td>0.809767</td>\n",
       "      <td>4.703589e-04</td>\n",
       "      <td>4.711456e-04</td>\n",
       "      <td>0.078507</td>\n",
       "      <td>0.030661</td>\n",
       "    </tr>\n",
       "  </tbody>\n",
       "</table>\n",
       "</div>"
      ],
      "text/plain": [
       "   mean_fit_time  mean_score_time  mean_test_score  mean_train_score  \\\n",
       "0       0.001999         0.000000         0.549374          0.537004   \n",
       "1       0.001999         0.000666         0.745959          0.790389   \n",
       "2       0.001666         0.001000         0.742007          0.815659   \n",
       "3       0.001333         0.001000         0.737296          0.816186   \n",
       "4       0.001667         0.000333         0.736727          0.816192   \n",
       "\n",
       "  param_alpha             params  rank_test_score  split0_test_score  \\\n",
       "0        1000  {'alpha': 1000.0}                7           0.398668   \n",
       "1         100   {'alpha': 100.0}                1           0.689215   \n",
       "2          10    {'alpha': 10.0}                2           0.739684   \n",
       "3           1     {'alpha': 1.0}                3           0.741957   \n",
       "4         0.1     {'alpha': 0.1}                4           0.742083   \n",
       "\n",
       "   split0_train_score  split1_test_score  split1_train_score  \\\n",
       "0            0.535237           0.554192            0.495344   \n",
       "1            0.822006           0.832997            0.754247   \n",
       "2            0.855724           0.835381            0.781726   \n",
       "3            0.856533           0.830478            0.782261   \n",
       "4            0.856542           0.829887            0.782267   \n",
       "\n",
       "   split2_test_score  split2_train_score  std_fit_time  std_score_time  \\\n",
       "0           0.695971            0.580431  1.123916e-07    0.000000e+00   \n",
       "1           0.715518            0.794914  1.946680e-07    4.712019e-04   \n",
       "2           0.650513            0.809525  4.713710e-04    1.123916e-07   \n",
       "3           0.638977            0.809765  4.714266e-04    8.485379e-07   \n",
       "4           0.637732            0.809767  4.703589e-04    4.711456e-04   \n",
       "\n",
       "   std_test_score  std_train_score  \n",
       "0        0.121372         0.034759  \n",
       "1        0.062548         0.027847  \n",
       "2        0.075459         0.030519  \n",
       "3        0.078218         0.030660  \n",
       "4        0.078507         0.030661  "
      ]
     },
     "metadata": {},
     "output_type": "display_data"
    }
   ],
   "source": [
    "# GridSearch()\n",
    "from sklearn.model_selection import GridSearchCV\n",
    "alphas = np.array([1000,100,10,1,0.1,0.01,0.001])\n",
    "model = Ridge()\n",
    "grid = GridSearchCV(estimator=model, param_grid=dict(alpha=alphas))\n",
    "grid.fit(X_train,y_train)\n",
    "\n",
    "print(\"Best parameters: {}\".format(grid.best_params_))\n",
    "print(\"Best cross-validation score: {:.2f}\".format(grid.best_score_))\n",
    "\n",
    "results = pd.DataFrame(grid.cv_results_)\n",
    "# show the first 5 rows\n",
    "display(results.head())"
   ]
  },
  {
   "cell_type": "markdown",
   "metadata": {},
   "source": [
    "#### 4.Lasso"
   ]
  },
  {
   "cell_type": "code",
   "execution_count": 39,
   "metadata": {},
   "outputs": [
    {
     "data": {
      "text/plain": [
       "Text(0.5,0,'$\\\\alpha$')"
      ]
     },
     "execution_count": 39,
     "metadata": {},
     "output_type": "execute_result"
    },
    {
     "data": {
      "image/png": "[encoded data removed]",
      "text/plain": [
       "<matplotlib.figure.Figure at 0x1d8bb4dc208>"
      ]
     },
     "metadata": {},
     "output_type": "display_data"
    }
   ],
   "source": [
    "from sklearn.linear_model import Lasso\n",
    "x_range = [0.01, 0.1, 1, 10, 100]\n",
    "train_score_list = []\n",
    "test_score_list = []\n",
    "\n",
    "for alpha in x_range: \n",
    "    lasso = Lasso(alpha)\n",
    "    lasso.fit(X_train,y_train)\n",
    "    train_score_list.append(lasso.score(X_train,y_train))\n",
    "    test_score_list.append(lasso.score(X_test, y_test))\n",
    "\n",
    "plt.plot(x_range, train_score_list, c = 'g', label = 'Train Score')\n",
    "plt.plot(x_range, test_score_list, c = 'b', label = 'Test Score')\n",
    "plt.xscale('log')\n",
    "plt.legend(loc = 3)\n",
    "plt.xlabel(r'$\\alpha$')"
   ]
  },
  {
   "cell_type": "code",
   "execution_count": 40,
   "metadata": {},
   "outputs": [
    {
     "name": "stdout",
     "output_type": "stream",
     "text": [
      "Train score: 0.8046\n",
      "Test score: 0.6691\n"
     ]
    }
   ],
   "source": [
    "lasso = Lasso(alpha=0.01)\n",
    "lasso.fit(X_train,y_train)\n",
    "print('Train score: {:.4f}'.format(lasso.score(X_train,y_train)))\n",
    "print('Test score: {:.4f}'.format(lasso.score(X_test, y_test)))"
   ]
  },
  {
   "cell_type": "code",
   "execution_count": 41,
   "metadata": {},
   "outputs": [
    {
     "data": {
      "text/plain": [
       "<matplotlib.legend.Legend at 0x1d8be457f60>"
      ]
     },
     "execution_count": 41,
     "metadata": {},
     "output_type": "execute_result"
    },
    {
     "data": {
      "image/png": "[encoded data removed]",
      "text/plain": [
       "<matplotlib.figure.Figure at 0x1d8be36a588>"
      ]
     },
     "metadata": {},
     "output_type": "display_data"
    }
   ],
   "source": [
    "x_range1 = np.linspace(0.01, 1, 100).reshape(-1,1)\n",
    "x_range2 = np.linspace(1, 100, 100).reshape(-1,1)\n",
    "\n",
    "x_range = np.append(x_range1, x_range2)\n",
    "coeff = []\n",
    "\n",
    "for alpha in x_range: \n",
    "    lasso = Lasso(alpha)\n",
    "    lasso.fit(X_train,y_train)\n",
    "    coeff.append(lasso.coef_ )\n",
    "    \n",
    "coeff = np.array(coeff)\n",
    "\n",
    "for i in range(0,10):\n",
    "    plt.plot(x_range, coeff[:,i], label = 'feature {:d}'.format(i))\n",
    "\n",
    "plt.axhline(y=0, xmin=0.001, xmax=9999, linewidth=1, c ='gray')\n",
    "plt.xlabel(r'$\\alpha$')\n",
    "plt.xscale('log')\n",
    "plt.legend(loc='upper center', bbox_to_anchor=(0.5, 1.5),\n",
    "          ncol=3, fancybox=True, shadow=True)"
   ]
  },
  {
   "cell_type": "code",
   "execution_count": 42,
   "metadata": {},
   "outputs": [
    {
     "name": "stdout",
     "output_type": "stream",
     "text": [
      "Best parameters: {'alpha': 1}\n",
      "Best cross-validation score: 0.78\n"
     ]
    },
    {
     "data": {
      "text/html": [
       "<div>\n",
       "<style>\n",
       "    .dataframe thead tr:only-child th {\n",
       "        text-align: right;\n",
       "    }\n",
       "\n",
       "    .dataframe thead th {\n",
       "        text-align: left;\n",
       "    }\n",
       "\n",
       "    .dataframe tbody tr th {\n",
       "        vertical-align: top;\n",
       "    }\n",
       "</style>\n",
       "<table border=\"1\" class=\"dataframe\">\n",
       "  <thead>\n",
       "    <tr style=\"text-align: right;\">\n",
       "      <th></th>\n",
       "      <th>mean_fit_time</th>\n",
       "      <th>mean_score_time</th>\n",
       "      <th>mean_test_score</th>\n",
       "      <th>mean_train_score</th>\n",
       "      <th>param_alpha</th>\n",
       "      <th>params</th>\n",
       "      <th>rank_test_score</th>\n",
       "      <th>split0_test_score</th>\n",
       "      <th>split0_train_score</th>\n",
       "      <th>split1_test_score</th>\n",
       "      <th>...</th>\n",
       "      <th>split2_test_score</th>\n",
       "      <th>split2_train_score</th>\n",
       "      <th>split3_test_score</th>\n",
       "      <th>split3_train_score</th>\n",
       "      <th>split4_test_score</th>\n",
       "      <th>split4_train_score</th>\n",
       "      <th>std_fit_time</th>\n",
       "      <th>std_score_time</th>\n",
       "      <th>std_test_score</th>\n",
       "      <th>std_train_score</th>\n",
       "    </tr>\n",
       "  </thead>\n",
       "  <tbody>\n",
       "    <tr>\n",
       "      <th>0</th>\n",
       "      <td>0.001400</td>\n",
       "      <td>0.000400</td>\n",
       "      <td>0.757222</td>\n",
       "      <td>0.812377</td>\n",
       "      <td>0.001</td>\n",
       "      <td>{'alpha': 0.001}</td>\n",
       "      <td>4</td>\n",
       "      <td>0.711292</td>\n",
       "      <td>0.864058</td>\n",
       "      <td>0.779671</td>\n",
       "      <td>...</td>\n",
       "      <td>0.836786</td>\n",
       "      <td>0.782604</td>\n",
       "      <td>0.804050</td>\n",
       "      <td>0.802692</td>\n",
       "      <td>0.654310</td>\n",
       "      <td>0.807802</td>\n",
       "      <td>4.891817e-04</td>\n",
       "      <td>0.000490</td>\n",
       "      <td>0.065921</td>\n",
       "      <td>0.027315</td>\n",
       "    </tr>\n",
       "    <tr>\n",
       "      <th>1</th>\n",
       "      <td>0.000799</td>\n",
       "      <td>0.000400</td>\n",
       "      <td>0.757935</td>\n",
       "      <td>0.812372</td>\n",
       "      <td>0.01</td>\n",
       "      <td>{'alpha': 0.01}</td>\n",
       "      <td>3</td>\n",
       "      <td>0.710543</td>\n",
       "      <td>0.864051</td>\n",
       "      <td>0.780421</td>\n",
       "      <td>...</td>\n",
       "      <td>0.836825</td>\n",
       "      <td>0.782598</td>\n",
       "      <td>0.804907</td>\n",
       "      <td>0.802688</td>\n",
       "      <td>0.656978</td>\n",
       "      <td>0.807798</td>\n",
       "      <td>3.997126e-04</td>\n",
       "      <td>0.000490</td>\n",
       "      <td>0.065382</td>\n",
       "      <td>0.027314</td>\n",
       "    </tr>\n",
       "    <tr>\n",
       "      <th>2</th>\n",
       "      <td>0.000600</td>\n",
       "      <td>0.000600</td>\n",
       "      <td>0.764212</td>\n",
       "      <td>0.811864</td>\n",
       "      <td>0.1</td>\n",
       "      <td>{'alpha': 0.1}</td>\n",
       "      <td>2</td>\n",
       "      <td>0.702928</td>\n",
       "      <td>0.863373</td>\n",
       "      <td>0.787085</td>\n",
       "      <td>...</td>\n",
       "      <td>0.836888</td>\n",
       "      <td>0.782035</td>\n",
       "      <td>0.811639</td>\n",
       "      <td>0.802259</td>\n",
       "      <td>0.682518</td>\n",
       "      <td>0.807381</td>\n",
       "      <td>4.896679e-04</td>\n",
       "      <td>0.000490</td>\n",
       "      <td>0.060801</td>\n",
       "      <td>0.027251</td>\n",
       "    </tr>\n",
       "    <tr>\n",
       "      <th>3</th>\n",
       "      <td>0.000799</td>\n",
       "      <td>0.000199</td>\n",
       "      <td>0.783910</td>\n",
       "      <td>0.793289</td>\n",
       "      <td>1</td>\n",
       "      <td>{'alpha': 1}</td>\n",
       "      <td>1</td>\n",
       "      <td>0.652578</td>\n",
       "      <td>0.840770</td>\n",
       "      <td>0.799481</td>\n",
       "      <td>...</td>\n",
       "      <td>0.831704</td>\n",
       "      <td>0.760455</td>\n",
       "      <td>0.817577</td>\n",
       "      <td>0.787324</td>\n",
       "      <td>0.818209</td>\n",
       "      <td>0.790834</td>\n",
       "      <td>3.997337e-04</td>\n",
       "      <td>0.000399</td>\n",
       "      <td>0.066460</td>\n",
       "      <td>0.026126</td>\n",
       "    </tr>\n",
       "    <tr>\n",
       "      <th>4</th>\n",
       "      <td>0.001000</td>\n",
       "      <td>0.000600</td>\n",
       "      <td>0.114253</td>\n",
       "      <td>0.154346</td>\n",
       "      <td>10</td>\n",
       "      <td>{'alpha': 10}</td>\n",
       "      <td>5</td>\n",
       "      <td>-0.020456</td>\n",
       "      <td>0.000000</td>\n",
       "      <td>0.252622</td>\n",
       "      <td>...</td>\n",
       "      <td>-0.009534</td>\n",
       "      <td>0.000000</td>\n",
       "      <td>0.173865</td>\n",
       "      <td>0.288305</td>\n",
       "      <td>0.174766</td>\n",
       "      <td>0.271541</td>\n",
       "      <td>5.560829e-07</td>\n",
       "      <td>0.000490</td>\n",
       "      <td>0.109390</td>\n",
       "      <td>0.128558</td>\n",
       "    </tr>\n",
       "  </tbody>\n",
       "</table>\n",
       "<p>5 rows × 21 columns</p>\n",
       "</div>"
      ],
      "text/plain": [
       "   mean_fit_time  mean_score_time  mean_test_score  mean_train_score  \\\n",
       "0       0.001400         0.000400         0.757222          0.812377   \n",
       "1       0.000799         0.000400         0.757935          0.812372   \n",
       "2       0.000600         0.000600         0.764212          0.811864   \n",
       "3       0.000799         0.000199         0.783910          0.793289   \n",
       "4       0.001000         0.000600         0.114253          0.154346   \n",
       "\n",
       "  param_alpha            params  rank_test_score  split0_test_score  \\\n",
       "0       0.001  {'alpha': 0.001}                4           0.711292   \n",
       "1        0.01   {'alpha': 0.01}                3           0.710543   \n",
       "2         0.1    {'alpha': 0.1}                2           0.702928   \n",
       "3           1      {'alpha': 1}                1           0.652578   \n",
       "4          10     {'alpha': 10}                5          -0.020456   \n",
       "\n",
       "   split0_train_score  split1_test_score       ...         split2_test_score  \\\n",
       "0            0.864058           0.779671       ...                  0.836786   \n",
       "1            0.864051           0.780421       ...                  0.836825   \n",
       "2            0.863373           0.787085       ...                  0.836888   \n",
       "3            0.840770           0.799481       ...                  0.831704   \n",
       "4            0.000000           0.252622       ...                 -0.009534   \n",
       "\n",
       "   split2_train_score  split3_test_score  split3_train_score  \\\n",
       "0            0.782604           0.804050            0.802692   \n",
       "1            0.782598           0.804907            0.802688   \n",
       "2            0.782035           0.811639            0.802259   \n",
       "3            0.760455           0.817577            0.787324   \n",
       "4            0.000000           0.173865            0.288305   \n",
       "\n",
       "   split4_test_score  split4_train_score  std_fit_time  std_score_time  \\\n",
       "0           0.654310            0.807802  4.891817e-04        0.000490   \n",
       "1           0.656978            0.807798  3.997126e-04        0.000490   \n",
       "2           0.682518            0.807381  4.896679e-04        0.000490   \n",
       "3           0.818209            0.790834  3.997337e-04        0.000399   \n",
       "4           0.174766            0.271541  5.560829e-07        0.000490   \n",
       "\n",
       "   std_test_score  std_train_score  \n",
       "0        0.065921         0.027315  \n",
       "1        0.065382         0.027314  \n",
       "2        0.060801         0.027251  \n",
       "3        0.066460         0.026126  \n",
       "4        0.109390         0.128558  \n",
       "\n",
       "[5 rows x 21 columns]"
      ]
     },
     "metadata": {},
     "output_type": "display_data"
    }
   ],
   "source": [
    "#Grid_Search\n",
    "param_grid = {'alpha':[0.001, 0.01, 0.1, 1, 10, 100]}\n",
    "grid_search = GridSearchCV(Lasso(),param_grid,cv=5,return_train_score=True)\n",
    "grid_search.fit(X_train,y_train)\n",
    "\n",
    "print(\"Best parameters: {}\".format(grid_search.best_params_))\n",
    "print(\"Best cross-validation score: {:.2f}\".format(grid_search.best_score_))\n",
    "\n",
    "results = pd.DataFrame(grid_search.cv_results_)\n",
    "# show the first 5 rows\n",
    "display(results.head())"
   ]
  },
  {
   "cell_type": "code",
   "execution_count": 43,
   "metadata": {},
   "outputs": [
    {
     "name": "stdout",
     "output_type": "stream",
     "text": [
      "Avg Train Score:0.7579\n",
      "Avg Test Score:-0.1790\n"
     ]
    }
   ],
   "source": [
    "#cross validation\n",
    "lasso = Lasso(alpha =0.01)\n",
    "train_score = cross_val_score(lasso,X_train,y_train,cv=5)\n",
    "test_score = cross_val_score(lasso,X_test,y_test,cv=5)\n",
    "print(\"Avg Train Score:%.4f\"%train_score.mean())\n",
    "print(\"Avg Test Score:%.4f\"%test_score.mean())"
   ]
  },
  {
   "cell_type": "markdown",
   "metadata": {},
   "source": [
    "#### 5. Polynomial"
   ]
  },
  {
   "cell_type": "code",
   "execution_count": 44,
   "metadata": {},
   "outputs": [
    {
     "name": "stdout",
     "output_type": "stream",
     "text": [
      "[0.80459740996575779, 0.99854803437595274]\n",
      "[0.66950423040640705, -0.45732382704174213]\n"
     ]
    }
   ],
   "source": [
    "from sklearn.preprocessing import PolynomialFeatures\n",
    "\n",
    "train_score_list = []\n",
    "test_score_list = []\n",
    "\n",
    "for n in range(1,3):\n",
    "    poly = PolynomialFeatures(n)\n",
    "    X_train_poly = poly.fit_transform(X_train)\n",
    "    X_test_poly = poly.transform(X_test)\n",
    "    lr.fit(X_train_poly, y_train)\n",
    "    train_score_list.append(lr.score(X_train_poly, y_train))\n",
    "    test_score_list.append(lr.score(X_test_poly, y_test))\n",
    "\n",
    "print(train_score_list)\n",
    "print(test_score_list)"
   ]
  },
  {
   "cell_type": "markdown",
   "metadata": {},
   "source": [
    "#### 6. SVM(simple)"
   ]
  },
  {
   "cell_type": "code",
   "execution_count": 45,
   "metadata": {},
   "outputs": [
    {
     "data": {
      "text/plain": [
       "[<matplotlib.lines.Line2D at 0x1d8be558320>]"
      ]
     },
     "execution_count": 45,
     "metadata": {},
     "output_type": "execute_result"
    },
    {
     "data": {
      "image/png": "[encoded data removed]",
      "text/plain": [
       "<matplotlib.figure.Figure at 0x1d8be558940>"
      ]
     },
     "metadata": {},
     "output_type": "display_data"
    }
   ],
   "source": [
    "from sklearn.svm import LinearSVR\n",
    "train_score = []\n",
    "test_score = []\n",
    "C = [0.01,0.1,1,10,100]\n",
    "\n",
    "for i in C:\n",
    "    svr = LinearSVR(C=i)\n",
    "    svr.fit(X_train,y_train)\n",
    "    train_score.append(svr.score(X_train,y_train))\n",
    "    test_score.append(svr.score(X_test,y_test))\n",
    "\n",
    "plt.plot(C,train_score,'b')\n",
    "plt.plot(C,test_score,'r')"
   ]
  },
  {
   "cell_type": "code",
   "execution_count": 46,
   "metadata": {},
   "outputs": [
    {
     "name": "stdout",
     "output_type": "stream",
     "text": [
      "Train score: 0.7282\n",
      "Test score: 0.6080\n"
     ]
    }
   ],
   "source": [
    "svr = LinearSVR(C=10)\n",
    "svr.fit(X_train,y_train)\n",
    "print('Train score: {:.4f}'.format(svr.score(X_train,y_train)))\n",
    "print('Test score: {:.4f}'.format(svr.score(X_test, y_test)))"
   ]
  },
  {
   "cell_type": "code",
   "execution_count": 47,
   "metadata": {},
   "outputs": [
    {
     "name": "stdout",
     "output_type": "stream",
     "text": [
      "Best parameters: {'C': 10}\n",
      "Best cross-validation score: 0.77\n"
     ]
    },
    {
     "data": {
      "text/html": [
       "<div>\n",
       "<style>\n",
       "    .dataframe thead tr:only-child th {\n",
       "        text-align: right;\n",
       "    }\n",
       "\n",
       "    .dataframe thead th {\n",
       "        text-align: left;\n",
       "    }\n",
       "\n",
       "    .dataframe tbody tr th {\n",
       "        vertical-align: top;\n",
       "    }\n",
       "</style>\n",
       "<table border=\"1\" class=\"dataframe\">\n",
       "  <thead>\n",
       "    <tr style=\"text-align: right;\">\n",
       "      <th></th>\n",
       "      <th>mean_fit_time</th>\n",
       "      <th>mean_score_time</th>\n",
       "      <th>mean_test_score</th>\n",
       "      <th>mean_train_score</th>\n",
       "      <th>param_C</th>\n",
       "      <th>params</th>\n",
       "      <th>rank_test_score</th>\n",
       "      <th>split0_test_score</th>\n",
       "      <th>split0_train_score</th>\n",
       "      <th>split1_test_score</th>\n",
       "      <th>...</th>\n",
       "      <th>split2_test_score</th>\n",
       "      <th>split2_train_score</th>\n",
       "      <th>split3_test_score</th>\n",
       "      <th>split3_train_score</th>\n",
       "      <th>split4_test_score</th>\n",
       "      <th>split4_train_score</th>\n",
       "      <th>std_fit_time</th>\n",
       "      <th>std_score_time</th>\n",
       "      <th>std_test_score</th>\n",
       "      <th>std_train_score</th>\n",
       "    </tr>\n",
       "  </thead>\n",
       "  <tbody>\n",
       "    <tr>\n",
       "      <th>0</th>\n",
       "      <td>0.000999</td>\n",
       "      <td>0.0004</td>\n",
       "      <td>-0.106411</td>\n",
       "      <td>-0.084230</td>\n",
       "      <td>0.001</td>\n",
       "      <td>{'C': 0.001}</td>\n",
       "      <td>5</td>\n",
       "      <td>-0.091593</td>\n",
       "      <td>-0.096537</td>\n",
       "      <td>-0.116476</td>\n",
       "      <td>...</td>\n",
       "      <td>-0.103950</td>\n",
       "      <td>-0.081198</td>\n",
       "      <td>-0.114514</td>\n",
       "      <td>-0.082191</td>\n",
       "      <td>-0.105521</td>\n",
       "      <td>-0.082973</td>\n",
       "      <td>0.000632</td>\n",
       "      <td>4.895121e-04</td>\n",
       "      <td>0.008870</td>\n",
       "      <td>0.006358</td>\n",
       "    </tr>\n",
       "    <tr>\n",
       "      <th>1</th>\n",
       "      <td>0.000600</td>\n",
       "      <td>0.0010</td>\n",
       "      <td>0.214813</td>\n",
       "      <td>0.167054</td>\n",
       "      <td>0.01</td>\n",
       "      <td>{'C': 0.01}</td>\n",
       "      <td>4</td>\n",
       "      <td>0.083447</td>\n",
       "      <td>0.185824</td>\n",
       "      <td>0.237751</td>\n",
       "      <td>...</td>\n",
       "      <td>0.126820</td>\n",
       "      <td>0.154172</td>\n",
       "      <td>0.290862</td>\n",
       "      <td>0.172154</td>\n",
       "      <td>0.335184</td>\n",
       "      <td>0.161989</td>\n",
       "      <td>0.000490</td>\n",
       "      <td>4.672031e-07</td>\n",
       "      <td>0.095706</td>\n",
       "      <td>0.011000</td>\n",
       "    </tr>\n",
       "    <tr>\n",
       "      <th>2</th>\n",
       "      <td>0.001998</td>\n",
       "      <td>0.0002</td>\n",
       "      <td>0.691057</td>\n",
       "      <td>0.647825</td>\n",
       "      <td>0.1</td>\n",
       "      <td>{'C': 0.1}</td>\n",
       "      <td>3</td>\n",
       "      <td>0.513535</td>\n",
       "      <td>0.712077</td>\n",
       "      <td>0.777359</td>\n",
       "      <td>...</td>\n",
       "      <td>0.663733</td>\n",
       "      <td>0.567814</td>\n",
       "      <td>0.730387</td>\n",
       "      <td>0.661381</td>\n",
       "      <td>0.770273</td>\n",
       "      <td>0.665239</td>\n",
       "      <td>0.001094</td>\n",
       "      <td>3.997803e-04</td>\n",
       "      <td>0.097500</td>\n",
       "      <td>0.047431</td>\n",
       "    </tr>\n",
       "    <tr>\n",
       "      <th>3</th>\n",
       "      <td>0.018989</td>\n",
       "      <td>0.0006</td>\n",
       "      <td>0.769010</td>\n",
       "      <td>0.723457</td>\n",
       "      <td>1</td>\n",
       "      <td>{'C': 1}</td>\n",
       "      <td>2</td>\n",
       "      <td>0.628621</td>\n",
       "      <td>0.804702</td>\n",
       "      <td>0.820407</td>\n",
       "      <td>...</td>\n",
       "      <td>0.791072</td>\n",
       "      <td>0.680997</td>\n",
       "      <td>0.778404</td>\n",
       "      <td>0.699638</td>\n",
       "      <td>0.826547</td>\n",
       "      <td>0.722005</td>\n",
       "      <td>0.002190</td>\n",
       "      <td>4.897071e-04</td>\n",
       "      <td>0.072438</td>\n",
       "      <td>0.042792</td>\n",
       "    </tr>\n",
       "    <tr>\n",
       "      <th>4</th>\n",
       "      <td>0.034379</td>\n",
       "      <td>0.0010</td>\n",
       "      <td>0.772462</td>\n",
       "      <td>0.729721</td>\n",
       "      <td>10</td>\n",
       "      <td>{'C': 10}</td>\n",
       "      <td>1</td>\n",
       "      <td>0.627375</td>\n",
       "      <td>0.802653</td>\n",
       "      <td>0.815615</td>\n",
       "      <td>...</td>\n",
       "      <td>0.810164</td>\n",
       "      <td>0.703993</td>\n",
       "      <td>0.778001</td>\n",
       "      <td>0.699327</td>\n",
       "      <td>0.831153</td>\n",
       "      <td>0.723092</td>\n",
       "      <td>0.005496</td>\n",
       "      <td>1.925147e-06</td>\n",
       "      <td>0.074578</td>\n",
       "      <td>0.037556</td>\n",
       "    </tr>\n",
       "  </tbody>\n",
       "</table>\n",
       "<p>5 rows × 21 columns</p>\n",
       "</div>"
      ],
      "text/plain": [
       "   mean_fit_time  mean_score_time  mean_test_score  mean_train_score param_C  \\\n",
       "0       0.000999           0.0004        -0.106411         -0.084230   0.001   \n",
       "1       0.000600           0.0010         0.214813          0.167054    0.01   \n",
       "2       0.001998           0.0002         0.691057          0.647825     0.1   \n",
       "3       0.018989           0.0006         0.769010          0.723457       1   \n",
       "4       0.034379           0.0010         0.772462          0.729721      10   \n",
       "\n",
       "         params  rank_test_score  split0_test_score  split0_train_score  \\\n",
       "0  {'C': 0.001}                5          -0.091593           -0.096537   \n",
       "1   {'C': 0.01}                4           0.083447            0.185824   \n",
       "2    {'C': 0.1}                3           0.513535            0.712077   \n",
       "3      {'C': 1}                2           0.628621            0.804702   \n",
       "4     {'C': 10}                1           0.627375            0.802653   \n",
       "\n",
       "   split1_test_score       ...         split2_test_score  split2_train_score  \\\n",
       "0          -0.116476       ...                 -0.103950           -0.081198   \n",
       "1           0.237751       ...                  0.126820            0.154172   \n",
       "2           0.777359       ...                  0.663733            0.567814   \n",
       "3           0.820407       ...                  0.791072            0.680997   \n",
       "4           0.815615       ...                  0.810164            0.703993   \n",
       "\n",
       "   split3_test_score  split3_train_score  split4_test_score  \\\n",
       "0          -0.114514           -0.082191          -0.105521   \n",
       "1           0.290862            0.172154           0.335184   \n",
       "2           0.730387            0.661381           0.770273   \n",
       "3           0.778404            0.699638           0.826547   \n",
       "4           0.778001            0.699327           0.831153   \n",
       "\n",
       "   split4_train_score  std_fit_time  std_score_time  std_test_score  \\\n",
       "0           -0.082973      0.000632    4.895121e-04        0.008870   \n",
       "1            0.161989      0.000490    4.672031e-07        0.095706   \n",
       "2            0.665239      0.001094    3.997803e-04        0.097500   \n",
       "3            0.722005      0.002190    4.897071e-04        0.072438   \n",
       "4            0.723092      0.005496    1.925147e-06        0.074578   \n",
       "\n",
       "   std_train_score  \n",
       "0         0.006358  \n",
       "1         0.011000  \n",
       "2         0.047431  \n",
       "3         0.042792  \n",
       "4         0.037556  \n",
       "\n",
       "[5 rows x 21 columns]"
      ]
     },
     "metadata": {},
     "output_type": "display_data"
    }
   ],
   "source": [
    "# Grid_Search\n",
    "from sklearn.model_selection import GridSearchCV\n",
    "param_grid ={'C':[0.001, 0.01, 0.1, 1, 10]} \n",
    "grid_search = GridSearchCV(LinearSVR(),param_grid,cv=5,return_train_score=True)\n",
    "\n",
    "grid_search.fit(X_train,y_train)\n",
    "\n",
    "print(\"Best parameters: {}\".format(grid_search.best_params_))\n",
    "print(\"Best cross-validation score: {:.2f}\".format(grid_search.best_score_))\n",
    "\n",
    "results = pd.DataFrame(grid_search.cv_results_)\n",
    "# show the first 5 rows\n",
    "display(results.head())"
   ]
  },
  {
   "cell_type": "code",
   "execution_count": 48,
   "metadata": {},
   "outputs": [
    {
     "name": "stdout",
     "output_type": "stream",
     "text": [
      "Avg Train Score:0.7730\n",
      "Avg Test Score:0.5122\n"
     ]
    }
   ],
   "source": [
    "#cross validation\n",
    "svr = LinearSVR(C=10)\n",
    "train_score = cross_val_score(svr,X_train,y_train,cv=5)\n",
    "test_score = cross_val_score(svr,X_test,y_test,cv=5)\n",
    "print(\"Avg Train Score:%.4f\"%train_score.mean())\n",
    "print(\"Avg Test Score:%.4f\"%test_score.mean())"
   ]
  },
  {
   "cell_type": "code",
   "execution_count": null,
   "metadata": {},
   "outputs": [
    {
     "name": "stdout",
     "output_type": "stream",
     "text": [
      "Best parameters: {'C': 10, 'gamma': 0.01}\n",
      "Best cross-validation score: 0.68\n",
      "Train score: 0.6545\n",
      "Test score: 0.5720\n",
      "Mean Squared Error Test: 158.968231642\n"
     ]
    }
   ],
   "source": [
    "# SVM(Kernel = RBF)\n",
    "\n",
    "from sklearn.svm import SVR\n",
    "from sklearn import metrics\n",
    "param_grid = { \"C\":[0.0001,0.001,0.01,1,10],\n",
    "             \"gamma\":[0.0001,0.001,0.01,1,10]\n",
    "             }\n",
    "svr_reg = GridSearchCV(SVR(kernel='rbf'),param_grid,cv=5)\n",
    "\n",
    "svr_reg.fit(X_train,y_train)\n",
    "\n",
    "print(\"Best parameters: {}\".format(svr_reg.best_params_))\n",
    "print(\"Best cross-validation score: {:.2f}\".format(svr_reg.best_score_))\n",
    "print('Train score: {:.4f}'.format(svr_reg.score(X_train,y_train)))\n",
    "print('Test score: {:.4f}'.format(svr_reg.score(X_test, y_test)))\n",
    "pred = svr_reg.predict(X_test)\n",
    "print(\"Mean Squared Error Test:\", metrics.mean_squared_error(y_test,pred))"
   ]
  },
  {
   "cell_type": "code",
   "execution_count": null,
   "metadata": {
    "collapsed": true
   },
   "outputs": [],
   "source": [
    "# SVM(Kernel = Poly)\n",
    "from sklearn.svm import SVR\n",
    "param_grid = { \"C\":[0.0001,0.001,0.01,1,10],\n",
    "             \"gamma\":[0.0001,0.001,0.01,1,10]\n",
    "             }\n",
    "svr_reg = GridSearchCV(SVR(kernel='poly'),param_grid,cv=5)\n",
    "\n",
    "svr_reg.fit(X_train,y_train)\n",
    "\n",
    "print(\"Best parameters: {}\".format(svr_reg.best_params_))\n",
    "print(\"Best cross-validation score: {:.2f}\".format(svr_reg.best_score_))\n",
    "print('Train score: {:.4f}'.format(svr_reg.score(X_train,y_train)))\n",
    "print('Test score: {:.4f}'.format(svr_reg.score(X_test, y_test)))\n",
    "pred = svr_reg.predict(X_test)\n",
    "print(\"Mean Squared Error Test:\", metrics.mean_squared_error(y_test,pred))"
   ]
  },
  {
   "cell_type": "code",
   "execution_count": null,
   "metadata": {
    "collapsed": true
   },
   "outputs": [],
   "source": [
    "#SVM(Kernel = Linear\n",
    "\n",
    "from sklearn.svm import SVR\n",
    "param_grid = { \"C\":[0.0001,0.001,0.01,1,10],\n",
    "             \"gamma\":[0.0001,0.001,0.01,1,10]\n",
    "             }\n",
    "svr_reg = GridSearchCV(SVR(kernel='linear'),param_grid,cv=5)\n",
    "\n",
    "svr_reg.fit(X_train,y_train)\n",
    "\n",
    "print(\"Best parameters: {}\".format(svr_reg.best_params_))\n",
    "print(\"Best cross-validation score: {:.2f}\".format(svr_reg.best_score_))\n",
    "print('Train score: {:.4f}'.format(svr_reg.score(X_train,y_train)))\n",
    "print('Test score: {:.4f}'.format(svr_reg.score(X_test, y_test)))\n",
    "pred = svr_reg.predict(X_test)\n",
    "print(\"Mean Squared Error Test:\", metrics.mean_squared_error(y_test,pred))"
   ]
  },
  {
   "cell_type": "markdown",
   "metadata": {},
   "source": [
    "## Supervised Learning - Classification"
   ]
  },
  {
   "cell_type": "markdown",
   "metadata": {},
   "source": [
    "1. KNN Classification\n",
    "2. Logistic Regression\n",
    "3. Linear SVM\n",
    "4. Kernalized SVM\n",
    "5. Decision Tree"
   ]
  },
  {
   "cell_type": "code",
   "execution_count": null,
   "metadata": {
    "collapsed": true
   },
   "outputs": [],
   "source": [
    "audit = pd.read_csv('audit_risk.csv')\n",
    "trial = pd.read_csv('trial.csv')\n",
    "audit['Money_Value'].fillna(0,inplace=True)\n",
    "trial['Money_Value'].fillna(0,inplace=True)\n",
    "# Sorting the data frames\n",
    "audit = audit.sort_values(by=['LOCATION_ID','TOTAL'])\n",
    "trial = trial.sort_values(by=['LOCATION_ID','TOTAL'])\n",
    "\n",
    "#Concatinate data frames\n",
    "data = pd.concat([audit,trial[['Loss','History_score','LOSS_SCORE','MONEY_Marks']]],axis=1)\n",
    "\n",
    "#Removing LOCATION_ID\n",
    "data.drop('LOCATION_ID',axis=1,inplace=True)\n",
    "\n",
    "data['TOTAL'].max()\n",
    "# 1268.91\n",
    "data[data['TOTAL'] == 1268.91]\n",
    "# index = 241\n",
    "data.drop(241,inplace=True)"
   ]
  },
  {
   "cell_type": "markdown",
   "metadata": {},
   "source": [
    "Repeating the same Data pre-processing, exploratory analysis, and feature selection.\n",
    "\n",
    "Only difference is for classification we consider Risk variable.\n",
    "\n",
    "So we drop the Audit_Risk and include Risk variable for analysis."
   ]
  },
  {
   "cell_type": "code",
   "execution_count": null,
   "metadata": {
    "collapsed": true
   },
   "outputs": [],
   "source": [
    "data = data[['Sector_score', 'PARA_A', 'Score_A','PARA_B', 'Score_B','numbers','Money_Value','Score_MV','District_Loss','LOSS_SCORE','History_score','Risk']]"
   ]
  },
  {
   "cell_type": "code",
   "execution_count": null,
   "metadata": {
    "collapsed": true
   },
   "outputs": [],
   "source": [
    "from sklearn.model_selection import train_test_split\n",
    "X = data.drop('Risk',axis=1)\n",
    "y = data['Risk']\n",
    "\n",
    "X_train_org, X_test_org, y_train, y_test = train_test_split(X, y, test_size=0.2, random_state=0)\n",
    "\n",
    "from sklearn.preprocessing import MinMaxScaler\n",
    "scale = MinMaxScaler()\n",
    "X_train = scale.fit_transform(X_train_org)\n",
    "X_test = scale.transform(X_test_org)"
   ]
  },
  {
   "cell_type": "markdown",
   "metadata": {},
   "source": [
    "#### 1. KNN Classification"
   ]
  },
  {
   "cell_type": "code",
   "execution_count": null,
   "metadata": {
    "collapsed": true
   },
   "outputs": [],
   "source": [
    "from sklearn.neighbors import KNeighborsClassifier\n",
    "train_score = []\n",
    "test_score = []\n",
    "\n",
    "n = range(1,15)\n",
    "for i in n:\n",
    "    knn = KNeighborsClassifier(n_neighbors=i)\n",
    "    knn.fit(X_train,y_train)\n",
    "    train_score.append(knn.score(X_train,y_train))\n",
    "    test_score.append(knn.score(X_test,y_test))\n",
    "\n",
    "plt.plot(n,train_score,'b',label='Train score')\n",
    "plt.plot(n,test_score,'r',label = 'Test score')\n",
    "plt.legend()"
   ]
  },
  {
   "cell_type": "code",
   "execution_count": null,
   "metadata": {
    "collapsed": true
   },
   "outputs": [],
   "source": [
    "knn = KNeighborsClassifier(5)\n",
    "knn.fit(X_train, y_train)\n",
    "print('Train score: {:.4f}'.format(knn.score(X_train, y_train)))\n",
    "print('Test score: {:.4f}'.format(knn.score(X_test, y_test)))"
   ]
  },
  {
   "cell_type": "code",
   "execution_count": null,
   "metadata": {
    "collapsed": true
   },
   "outputs": [],
   "source": [
    "from sklearn.metrics import classification_report,confusion_matrix\n",
    "predictions = knn.predict(X_test)\n",
    "print(confusion_matrix(y_test,predictions))\n",
    "print(classification_report(y_test,predictions))"
   ]
  },
  {
   "cell_type": "code",
   "execution_count": null,
   "metadata": {
    "collapsed": true
   },
   "outputs": [],
   "source": [
    "#Cross validation\n",
    "knn = KNeighborsClassifier(n_neighbors=5)\n",
    "scores = cross_val_score(knn, X_train, y_train, cv=5, scoring='accuracy')\n",
    "scores1= cross_val_score(knn, X_test, y_test, cv=5, scoring='accuracy')\n",
    "\n",
    "print('Avg train score: {:.4f}'.format(scores.mean()))\n",
    "print('Avg train score: {:.4f}'.format(scores1.mean()))"
   ]
  },
  {
   "cell_type": "code",
   "execution_count": null,
   "metadata": {
    "collapsed": true
   },
   "outputs": [],
   "source": [
    "#Grid Search\n",
    "k_range = list(range(1, 21))\n",
    "param_grid = dict(n_neighbors=k_range)\n",
    "grid = GridSearchCV(knn, param_grid, cv=10, scoring='accuracy')\n",
    "grid.fit(X_train, y_train)\n",
    "print('Best Score: {:.4f}'.format(grid.best_score_))\n",
    "print('Best Paramater: {:}'.format(grid.best_params_))"
   ]
  },
  {
   "cell_type": "code",
   "execution_count": null,
   "metadata": {
    "collapsed": true
   },
   "outputs": [],
   "source": [
    "cvres = grid.cv_results_\n",
    "for mean_score, params in zip(cvres[\"mean_test_score\"], cvres[\"params\"]):\n",
    "    print(np.sqrt(mean_score), params)"
   ]
  },
  {
   "cell_type": "code",
   "execution_count": null,
   "metadata": {
    "collapsed": true
   },
   "outputs": [],
   "source": [
    "import mglearn\n",
    "x_b = X_train[0:774,[2,5]]\n",
    "y_b = y_train[0:774]\n",
    "\n",
    "knn = KNeighborsClassifier(7)\n",
    "knn.fit(x_b, y_b)\n",
    "\n",
    "mglearn.plots.plot_2d_separator(knn, x_b, fill=True, eps=0.5, alpha=.4)\n",
    "mglearn.discrete_scatter(x_b[:, 0], x_b[:, 1], y_b)"
   ]
  },
  {
   "cell_type": "markdown",
   "metadata": {},
   "source": [
    "#### 2. Logistic Regression"
   ]
  },
  {
   "cell_type": "code",
   "execution_count": null,
   "metadata": {
    "collapsed": true
   },
   "outputs": [],
   "source": [
    "from sklearn.linear_model import LogisticRegression\n",
    "\n",
    "c_range = [0.001, 0.01, 0.1, 1, 10, 100, 1000]\n",
    "train_score_l1 = []\n",
    "train_score_l2 = []\n",
    "test_score_l1 = []\n",
    "test_score_l2 = []\n",
    "\n",
    "for c in c_range:\n",
    "    log_l1 = LogisticRegression(penalty = 'l1', C = c)\n",
    "    log_l2 = LogisticRegression(penalty = 'l2', C = c)\n",
    "    log_l1.fit(X_train, y_train)\n",
    "    log_l2.fit(X_train, y_train)\n",
    "    train_score_l1.append(log_l1.score(X_train, y_train))\n",
    "    train_score_l2.append(log_l2.score(X_train, y_train))\n",
    "    test_score_l1.append(log_l1.score(X_test, y_test))\n",
    "    test_score_l2.append(log_l2.score(X_test, y_test))\n",
    "\n",
    "import matplotlib.pyplot as plt\n",
    "%matplotlib inline\n",
    "\n",
    "plt.plot(c_range, train_score_l1, label = 'Train score, penalty = l1')\n",
    "plt.plot(c_range, test_score_l1, label = 'Test score, penalty = l1')\n",
    "plt.plot(c_range, train_score_l2, label = 'Train score, penalty = l2')\n",
    "plt.plot(c_range, test_score_l2, label = 'Test score, penalty = l2')\n",
    "plt.legend()\n",
    "plt.xlabel('Regularization parameter: C')\n",
    "plt.ylabel('Accuracy')\n",
    "plt.xscale('log')"
   ]
  },
  {
   "cell_type": "code",
   "execution_count": null,
   "metadata": {
    "collapsed": true
   },
   "outputs": [],
   "source": [
    "log_l1 = LogisticRegression(penalty = 'l1', C = 0.1)\n",
    "log_l2 = LogisticRegression(penalty = 'l2', C = 1)\n",
    "log_l1.fit(X_train,y_train)\n",
    "log_l2.fit(X_train,y_train)\n",
    "print(\"Penality: l1\")\n",
    "print(\"Train_score:{:.4f}\".format(log_l1.score(X_train, y_train)))\n",
    "print(\"Test_score:{:.4f}\".format(log_l1.score(X_test, y_test)))\n",
    "print(\"Penality: l2\")\n",
    "print(\"Train_score:{:.4f}\".format(log_l2.score(X_train, y_train)))\n",
    "print(\"Test_score:{:.4f}\".format(log_l2.score(X_test, y_test)))"
   ]
  },
  {
   "cell_type": "code",
   "execution_count": null,
   "metadata": {
    "collapsed": true
   },
   "outputs": [],
   "source": [
    "#Cross validation\n",
    "log_l2 = LogisticRegression(penalty = 'l2', C = 1)\n",
    "scores = cross_val_score(log_l2, X_train, y_train, cv=5, scoring='accuracy')\n",
    "scores1= cross_val_score(log_l2, X_test, y_test, cv=5, scoring='accuracy')\n",
    "\n",
    "print('Avg train score: {:.4f}'.format(scores.mean()))\n",
    "print('Avg train score: {:.4f}'.format(scores1.mean()))"
   ]
  },
  {
   "cell_type": "code",
   "execution_count": null,
   "metadata": {
    "collapsed": true
   },
   "outputs": [],
   "source": [
    "import mglearn\n",
    "x_b = X_train[50:100, [1,3]]\n",
    "y_b = y_train[50:100]\n",
    "\n",
    "lreg = LogisticRegression()\n",
    "lreg.fit(x_b, y_b) \n",
    "\n",
    "mglearn.plots.plot_2d_separator(lreg, x_b, fill=True, eps=0.5, alpha=.4)\n",
    "mglearn.discrete_scatter(x_b[:, 0], x_b[:, 1], y_b)"
   ]
  },
  {
   "cell_type": "markdown",
   "metadata": {},
   "source": [
    "#### 3. Linear SVM"
   ]
  },
  {
   "cell_type": "code",
   "execution_count": null,
   "metadata": {
    "collapsed": true
   },
   "outputs": [],
   "source": [
    "from sklearn.svm import LinearSVC\n",
    "linear_svm = LinearSVC()\n",
    "linear_svm.fit(X_train,y_train)\n",
    "print('Train score: {:.4f}'.format(linear_svm.score(X_train,y_train)))\n",
    "print('Test score: {:.4f}'.format(linear_svm.score(X_test,y_test)))"
   ]
  },
  {
   "cell_type": "code",
   "execution_count": null,
   "metadata": {
    "collapsed": true
   },
   "outputs": [],
   "source": [
    "#Cross validation\n",
    "linear_svm = LinearSVC()\n",
    "scores = cross_val_score(linear_svm, X_train, y_train, cv=5, scoring='accuracy')\n",
    "scores1= cross_val_score(linear_svm, X_test, y_test, cv=5, scoring='accuracy')\n",
    "\n",
    "print('Avg train score: {:.4f}'.format(scores.mean()))\n",
    "print('Avg train score: {:.4f}'.format(scores1.mean()))"
   ]
  },
  {
   "cell_type": "code",
   "execution_count": null,
   "metadata": {
    "collapsed": true
   },
   "outputs": [],
   "source": [
    "mglearn.discrete_scatter(X_train[:, 0], X_train[:, 1], y_train)\n",
    "line = np.linspace(-5, 5)\n",
    "for coef, intercept, color in zip(linear_svm.coef_, linear_svm.intercept_,mglearn.cm3.colors):\n",
    "    plt.plot(line, -(line * coef[0] + intercept) / coef[1], c=color)\n",
    "plt.ylim(-2, 2)\n",
    "plt.xlim(0, 1.5)\n",
    "plt.xlabel(\"Feature 0\")\n",
    "plt.ylabel(\"Feature 1\")\n",
    "plt.legend(['Class 0', 'Class 1', 'Line class 0', 'Line class 1'], loc=(1.01, 0.3))"
   ]
  },
  {
   "cell_type": "markdown",
   "metadata": {},
   "source": [
    "#### 4. Kernalized SVM"
   ]
  },
  {
   "cell_type": "markdown",
   "metadata": {},
   "source": [
    "##### RBF kernal"
   ]
  },
  {
   "cell_type": "code",
   "execution_count": null,
   "metadata": {
    "collapsed": true
   },
   "outputs": [],
   "source": [
    "#kernal = 'rbf'\n",
    "from sklearn.svm import SVC\n",
    "C1 = [0.01,0.1,1,10]\n",
    "gamma1 = [0.01,0.1,1,10]\n",
    "\n",
    "for i in C1:\n",
    "    for j in gamma1:\n",
    "        svc = SVC(C=i,kernel='rbf',gamma=j)\n",
    "        svc.fit(X_train,y_train)\n",
    "        print('C:{},gamma:{}'.format(i,j))\n",
    "        print('Train score: {:.4f},Test score: {:.4f}'.format(svc.score(X_train,y_train),svc.score(X_test,y_test)))"
   ]
  },
  {
   "cell_type": "code",
   "execution_count": null,
   "metadata": {
    "collapsed": true
   },
   "outputs": [],
   "source": [
    "#Cross validation\n",
    "svc = SVC(C=0.1,kernel='rbf',gamma=1)\n",
    "scores = cross_val_score(svc, X_train, y_train, cv=5, scoring='accuracy')\n",
    "scores1= cross_val_score(svc, X_test, y_test, cv=5, scoring='accuracy')\n",
    "\n",
    "print('Avg train score: {:.4f}'.format(scores.mean()))\n",
    "print('Avg train score: {:.4f}'.format(scores1.mean()))"
   ]
  },
  {
   "cell_type": "markdown",
   "metadata": {},
   "source": [
    "Best Parameters: C = 0.1, gamma=1"
   ]
  },
  {
   "cell_type": "markdown",
   "metadata": {},
   "source": [
    "##### Linear Kernal"
   ]
  },
  {
   "cell_type": "code",
   "execution_count": null,
   "metadata": {
    "collapsed": true
   },
   "outputs": [],
   "source": [
    "#kernal = Linear\n",
    "C1 = [0.01,0.1,1,10]\n",
    "\n",
    "for i in C1:\n",
    "    svc = SVC(C=i,kernel='linear')\n",
    "    svc.fit(X_train,y_train)\n",
    "    print('C:{}'.format(i))\n",
    "    print('Train score: {:.4f},Test score: {:.4f}'.format(svc.score(X_train,y_train),svc.score(X_test,y_test)))"
   ]
  },
  {
   "cell_type": "code",
   "execution_count": null,
   "metadata": {
    "collapsed": true
   },
   "outputs": [],
   "source": [
    "#Cross validation\n",
    "svc = SVC(C=10,kernel='linear')\n",
    "scores = cross_val_score(svc, X_train, y_train, cv=5, scoring='accuracy')\n",
    "scores1= cross_val_score(svc, X_test, y_test, cv=5, scoring='accuracy')\n",
    "\n",
    "print('Avg train score: {:.4f}'.format(scores.mean()))\n",
    "print('Avg train score: {:.4f}'.format(scores1.mean()))"
   ]
  },
  {
   "cell_type": "markdown",
   "metadata": {},
   "source": [
    "Best Paramter: C=1"
   ]
  },
  {
   "cell_type": "markdown",
   "metadata": {},
   "source": [
    "##### polynomial kernal"
   ]
  },
  {
   "cell_type": "code",
   "execution_count": null,
   "metadata": {
    "collapsed": true
   },
   "outputs": [],
   "source": [
    "#kernal = poly\n",
    "C1 = [0.01,0.1,1,10]\n",
    "gamma1 = [0.01,0.1,1,10]\n",
    "\n",
    "for i in C1:\n",
    "    for j in gamma1:\n",
    "        svc = SVC(C=i,kernel='poly',gamma=j)\n",
    "        svc.fit(X_train,y_train)\n",
    "        print('C:{},gamma:{}'.format(i,j))\n",
    "        print('Train score: {:.4f},Test score: {:.4f}'.format(svc.score(X_train,y_train),svc.score(X_test,y_test)))"
   ]
  },
  {
   "cell_type": "code",
   "execution_count": null,
   "metadata": {
    "collapsed": true
   },
   "outputs": [],
   "source": [
    "#Cross validation\n",
    "svc = SVC(C=1,kernel='poly',gamma=10)\n",
    "scores = cross_val_score(svc, X_train, y_train, cv=5, scoring='accuracy')\n",
    "scores1= cross_val_score(svc, X_test, y_test, cv=5, scoring='accuracy')\n",
    "\n",
    "print('Avg train score: {:.4f}'.format(scores.mean()))\n",
    "print('Avg train score: {:.4f}'.format(scores1.mean()))"
   ]
  },
  {
   "cell_type": "markdown",
   "metadata": {},
   "source": [
    "#### 5. Decision Tree"
   ]
  },
  {
   "cell_type": "code",
   "execution_count": null,
   "metadata": {
    "collapsed": true
   },
   "outputs": [],
   "source": [
    "from sklearn.tree import DecisionTreeClassifier\n",
    "dtree = DecisionTreeClassifier(max_depth=3,random_state=0)\n",
    "dtree.fit(X_train, y_train)\n",
    "\n",
    "print(\"Accuracy on training set: {:.3f}\".format(dtree.score(X_train, y_train)))\n",
    "print(\"Accuracy on test set: {:.3f}\".format(dtree.score(X_test, y_test)))"
   ]
  },
  {
   "cell_type": "code",
   "execution_count": null,
   "metadata": {
    "collapsed": true
   },
   "outputs": [],
   "source": [
    "#Cross validation\n",
    "dtree = DecisionTreeClassifier(random_state=0)\n",
    "scores = cross_val_score(dtree, X_train, y_train, cv=5, scoring='accuracy')\n",
    "scores1= cross_val_score(dtree, X_test, y_test, cv=5, scoring='accuracy')\n",
    "\n",
    "print('Avg train score: {:.4f}'.format(scores.mean()))\n",
    "print('Avg test score: {:.4f}'.format(scores1.mean()))"
   ]
  },
  {
   "cell_type": "code",
   "execution_count": null,
   "metadata": {
    "collapsed": true
   },
   "outputs": [],
   "source": [
    "#Cross validation\n",
    "dtree = DecisionTreeClassifier(max_depth=3,random_state=0)\n",
    "scores = cross_val_score(dtree, X_train, y_train, cv=5, scoring='accuracy')\n",
    "scores1= cross_val_score(dtree, X_test, y_test, cv=5, scoring='accuracy')\n",
    "\n",
    "print('Avg train score: {:.4f}'.format(scores.mean()))\n",
    "print('Avg test score: {:.4f}'.format(scores1.mean()))"
   ]
  },
  {
   "cell_type": "code",
   "execution_count": null,
   "metadata": {
    "collapsed": true
   },
   "outputs": [],
   "source": [
    "def plot_feature_importances_risk(model):\n",
    "    n_features = X.shape[1]\n",
    "    plt.barh(range(n_features), model.feature_importances_, align='center')\n",
    "    plt.yticks(np.arange(n_features), list(X.columns))\n",
    "    plt.xlabel(\"Feature importance\")\n",
    "    plt.ylabel(\"Features\")\n",
    "    plt.ylim(-1, n_features)\n",
    "plt.figure(figsize=(10,10))\n",
    "plot_feature_importances_risk(dtree)"
   ]
  },
  {
   "cell_type": "code",
   "execution_count": null,
   "metadata": {
    "collapsed": true
   },
   "outputs": [],
   "source": [
    "import os\n",
    "os.environ[\"PATH\"] += os.pathsep + 'C:/Program Files (x86)/Graphviz2.38/bin/' + 'C:/Users/jmoha/AppData/Local/conda/conda/envs/fluffy/Lib/site-packages/graphviz' + 'C:/Users/jmoha/AppData/Local/conda/conda/envs/fluffy/Lib/site-packages/PIL'\n",
    "\n",
    "# Create DOT data\n",
    "from sklearn.tree import export_graphviz\n",
    "dot_data = export_graphviz(dtree, out_file=None, filled=True, rounded=True, special_characters=True)\n",
    "\n",
    "# Draw graph\n",
    "import pydotplus\n",
    "graph = pydotplus.graph_from_dot_data(dot_data)  \n",
    "\n",
    "# Show graph\n",
    "from PIL import *\n",
    "import graphviz\n",
    "from IPython.display import Image\n",
    "Image(graph.create_png())"
   ]
  },
  {
   "cell_type": "markdown",
   "metadata": {},
   "source": [
    "### Overview of Regression scores\n",
    "All the below scores are cross validation scores"
   ]
  },
  {
   "cell_type": "code",
   "execution_count": null,
   "metadata": {
    "collapsed": true
   },
   "outputs": [],
   "source": [
    "Regression = {'Model':['Linear Regression','KNN Regression','Ridge Regression','Lasso Regression','SVM Regression'],'Avg.Train Score':[0.73,0.6872,0.6067,0.7578,0.7735],'Avg_Test_Score':[-0.022,0.4047,0.227,-0.179,0.5133]}\n",
    "Regression_score = pd.DataFrame(Regression)\n",
    "Regression_score"
   ]
  },
  {
   "cell_type": "markdown",
   "metadata": {},
   "source": [
    "### Overview of Classification scores\n",
    "All the below scores are cross validation scores"
   ]
  },
  {
   "cell_type": "code",
   "execution_count": null,
   "metadata": {
    "collapsed": true
   },
   "outputs": [],
   "source": [
    "Classification = {'Model':['KNN classification','Logistic Regrerssion','Linear SVM','SVC - rbf','SVC - linear','SVC - poly','Decision Tree'],'Avg.Train Score':[0.9629,0.9612,0.9629,0.9629,0.9662,0.9791,0.9726],'Avg_Test_Score':[0.9348,0.9477,0.9613,0.9544,0.9544,0.9552,0.9735]}\n",
    "Classification_score = pd.DataFrame(Classification)\n",
    "Classification_score"
   ]
  },
  {
   "cell_type": "markdown",
   "metadata": {},
   "source": [
    "## Result"
   ]
  },
  {
   "cell_type": "markdown",
   "metadata": {},
   "source": [
    "#### The Best Regression model: SVM Regression\n",
    "Parameters: C = 10"
   ]
  },
  {
   "cell_type": "markdown",
   "metadata": {},
   "source": [
    "#### The Best Classification model: Decision Tree"
   ]
  },
  {
   "cell_type": "markdown",
   "metadata": {},
   "source": [
    "##### The important features in analysis : 'PARA_A', 'PARA_B','Score_MV', 'District_Loss', 'LOSS_SCORE'"
   ]
  },
  {
   "cell_type": "code",
   "execution_count": null,
   "metadata": {
    "collapsed": true
   },
   "outputs": [],
   "source": []
  },
  {
   "cell_type": "markdown",
   "metadata": {},
   "source": [
    " ###### Let's run the above models with important features only"
   ]
  },
  {
   "cell_type": "code",
   "execution_count": null,
   "metadata": {
    "collapsed": true
   },
   "outputs": [],
   "source": [
    "p = data[['PARA_A', 'PARA_B','Score_MV', 'District_Loss', 'LOSS_SCORE']]\n",
    "q = data['Risk']\n",
    "\n",
    "from sklearn.model_selection import train_test_split\n",
    "\n",
    "p_train_org, p_test_org, q_train, q_test = train_test_split(p, q, test_size=0.2, random_state=0)\n",
    "\n",
    "from sklearn.preprocessing import MinMaxScaler\n",
    "scale = MinMaxScaler()\n",
    "p_train = scale.fit_transform(p_train_org)\n",
    "p_test = scale.transform(p_test_org)"
   ]
  },
  {
   "cell_type": "code",
   "execution_count": null,
   "metadata": {
    "collapsed": true
   },
   "outputs": [],
   "source": [
    "# KNN Classifier\n",
    "from sklearn.neighbors import KNeighborsClassifier\n",
    "train_score = []\n",
    "test_score = []\n",
    "\n",
    "n = range(1,15)\n",
    "for i in n:\n",
    "    knn = KNeighborsClassifier(n_neighbors=i)\n",
    "    knn.fit(p_train,q_train)\n",
    "    train_score.append(knn.score(p_train,q_train))\n",
    "    test_score.append(knn.score(p_test,q_test))\n",
    "\n",
    "plt.plot(n,train_score,'b',label='Train score')\n",
    "plt.plot(n,test_score,'r',label = 'Test score')\n",
    "plt.legend()"
   ]
  },
  {
   "cell_type": "code",
   "execution_count": null,
   "metadata": {
    "collapsed": true
   },
   "outputs": [],
   "source": [
    "knn = KNeighborsClassifier(3)\n",
    "knn.fit(X_train, y_train)\n",
    "print('Train score: {:.4f}'.format(knn.score(X_train, y_train)))\n",
    "print('Test score: {:.4f}'.format(knn.score(X_test, y_test)))"
   ]
  },
  {
   "cell_type": "code",
   "execution_count": null,
   "metadata": {
    "collapsed": true
   },
   "outputs": [],
   "source": [
    "#Logistic Regression\n",
    "from sklearn.linear_model import LogisticRegression\n",
    "\n",
    "c_range = [0.001, 0.01, 0.1, 1, 10, 100, 1000]\n",
    "train_score_l1 = []\n",
    "train_score_l2 = []\n",
    "test_score_l1 = []\n",
    "test_score_l2 = []\n",
    "\n",
    "for c in c_range:\n",
    "    log_l1 = LogisticRegression(penalty = 'l1', C = c)\n",
    "    log_l2 = LogisticRegression(penalty = 'l2', C = c)\n",
    "    log_l1.fit(p_train, q_train)\n",
    "    log_l2.fit(p_train, q_train)\n",
    "    train_score_l1.append(log_l1.score(p_train, q_train))\n",
    "    train_score_l2.append(log_l2.score(p_train, q_train))\n",
    "    test_score_l1.append(log_l1.score(p_test, q_test))\n",
    "    test_score_l2.append(log_l2.score(p_test, q_test))\n",
    "\n",
    "import matplotlib.pyplot as plt\n",
    "%matplotlib inline\n",
    "\n",
    "plt.plot(c_range, train_score_l1, label = 'Train score, penalty = l1')\n",
    "plt.plot(c_range, test_score_l1, label = 'Test score, penalty = l1')\n",
    "plt.plot(c_range, train_score_l2, label = 'Train score, penalty = l2')\n",
    "plt.plot(c_range, test_score_l2, label = 'Test score, penalty = l2')\n",
    "plt.legend()\n",
    "plt.xlabel('Regularization parameter: C')\n",
    "plt.ylabel('Accuracy')\n",
    "plt.xscale('log')"
   ]
  },
  {
   "cell_type": "code",
   "execution_count": null,
   "metadata": {
    "collapsed": true
   },
   "outputs": [],
   "source": [
    "log_l1 = LogisticRegression(penalty = 'l1', C = 0.1)\n",
    "log_l2 = LogisticRegression(penalty = 'l2', C = 0.1)\n",
    "log_l1.fit(X_train,y_train)\n",
    "log_l2.fit(X_train,y_train)\n",
    "print(\"Penality: l1\")\n",
    "print(\"Train_score:{:.4f}\".format(log_l1.score(X_train, y_train)))\n",
    "print(\"Test_score:{:.4f}\".format(log_l1.score(X_test, y_test)))\n",
    "print(\"Penality: l2\")\n",
    "print(\"Train_score:{:.4f}\".format(log_l2.score(X_train, y_train)))\n",
    "print(\"Test_score:{:.4f}\".format(log_l2.score(X_test, y_test)))"
   ]
  },
  {
   "cell_type": "code",
   "execution_count": null,
   "metadata": {
    "collapsed": true
   },
   "outputs": [],
   "source": [
    "# RBF SVM\n",
    "#kernal = 'rbf'\n",
    "C1 = [0.01,0.1,1,10]\n",
    "gamma1 = [0.01,0.1,1,10]\n",
    "\n",
    "for i in C1:\n",
    "    for j in gamma1:\n",
    "        svc = SVC(C=i,kernel='rbf',gamma=j)\n",
    "        svc.fit(p_train,q_train)\n",
    "        print('C:{},gamma:{}'.format(i,j))\n",
    "        print('Train score: {:.4f},Test score: {:.4f}'.format(svc.score(p_train,q_train),svc.score(p_test,q_test)))"
   ]
  },
  {
   "cell_type": "code",
   "execution_count": null,
   "metadata": {
    "collapsed": true
   },
   "outputs": [],
   "source": [
    "#Decision Tree\n",
    "from sklearn.tree import DecisionTreeClassifier\n",
    "dtree = DecisionTreeClassifier(max_depth=3,random_state=0)\n",
    "dtree.fit(p_train, q_train)\n",
    "\n",
    "print(\"Accuracy on training set: {:.3f}\".format(dtree.score(p_train, q_train)))\n",
    "print(\"Accuracy on test set: {:.3f}\".format(dtree.score(p_test, q_test)))"
   ]
  },
  {
   "cell_type": "code",
   "execution_count": null,
   "metadata": {
    "collapsed": true
   },
   "outputs": [],
   "source": []
  }
 ],
 "metadata": {
  "kernelspec": {
   "display_name": "Python 3",
   "language": "python",
   "name": "python3"
  },
  "language_info": {
   "codemirror_mode": {
    "name": "ipython",
    "version": 3
   },
   "file_extension": ".py",
   "mimetype": "text/x-python",
   "name": "python",
   "nbconvert_exporter": "python",
   "pygments_lexer": "ipython3",
   "version": "3.6.3"
  }
 },
 "nbformat": 4,
 "nbformat_minor": 2
}
